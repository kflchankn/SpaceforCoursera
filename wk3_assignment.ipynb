{
 "cells": [
  {
   "cell_type": "markdown",
   "metadata": {},
   "source": [
    "# Segmenting and Clustering Neighborhoods in Toronto\n",
    "## Part 1: Web Scraping from Wikipedia"
   ]
  },
  {
   "cell_type": "markdown",
   "metadata": {},
   "source": [
    "### Import needed libraries"
   ]
  },
  {
   "cell_type": "code",
   "execution_count": 10,
   "metadata": {},
   "outputs": [],
   "source": [
    "import requests as rq\n",
    "from bs4 import BeautifulSoup as bs\n",
    "import pandas as pd\n",
    "from urllib import request as urre"
   ]
  },
  {
   "cell_type": "markdown",
   "metadata": {},
   "source": [
    "### I have used BeautifulSoup to scrap the Wikipedia HTML"
   ]
  },
  {
   "cell_type": "code",
   "execution_count": 3,
   "metadata": {
    "tags": [
     "outputPrepend"
    ]
   },
   "outputs": [],
   "source": [
    "url = 'https://en.wikipedia.org/wiki/List_of_postal_codes_of_Canada:_M'\n",
    "website_url = rq.get(url).text\n",
    "sp = bs(website_url,'lxml')"
   ]
  },
  {
   "cell_type": "markdown",
   "metadata": {},
   "source": [
    "### And then find table and store columns and rows of it"
   ]
  },
  {
   "cell_type": "code",
   "execution_count": 4,
   "metadata": {},
   "outputs": [],
   "source": [
    "tb = sp.find('table',{'class':'wikitable sortable'})\n",
    "columns = [th.text.replace('\\n', '') for th in tb.find('tr').find_all('th')]\n",
    "\n",
    "trs = tb.find_all('tr')[1:]\n",
    "rows = list()\n",
    "for tr in trs:\n",
    "    rows.append([td.text.replace('\\n', '').replace('\\xa0', '') for td in tr.find_all('td')])"
   ]
  },
  {
   "cell_type": "markdown",
   "metadata": {},
   "source": [
    "### Finally I created DFs according to the conditions\n",
    "#### Condition 1 : all data\n",
    "\n",
    "#### Condition 2: all data except Borough is equal to Not assigned \n",
    "\n",
    "#### Condition 3: Con2 + use comma to separate code with more than 1 neighborhood\n",
    "#### Wiki's list has been changed, they have grouped all neoghborhood that shares same postal code\n",
    "#### so this condition will only replace the separator as the question requested"
   ]
  },
  {
   "cell_type": "code",
   "execution_count": 5,
   "metadata": {},
   "outputs": [
    {
     "output_type": "execute_result",
     "data": {
      "text/plain": "    Postal code           Borough  \\\n2           M3A        North York   \n3           M4A        North York   \n4           M5A  Downtown Toronto   \n5           M6A        North York   \n6           M7A  Downtown Toronto   \n..          ...               ...   \n160         M8X         Etobicoke   \n165         M4Y  Downtown Toronto   \n168         M7Y      East Toronto   \n169         M8Y         Etobicoke   \n178         M8Z         Etobicoke   \n\n                                          Neighborhood  \n2                                            Parkwoods  \n3                                     Victoria Village  \n4                            Regent Park, Harbourfront  \n5                     Lawrence Manor, Lawrence Heights  \n6          Queen's Park, Ontario Provincial Government  \n..                                                 ...  \n160     The Kingsway, Montgomery Road , Old Mill North  \n165                               Church and Wellesley  \n168              Business reply mail Processing CentrE  \n169  Old Mill South, King's Mill Park, Sunnylea, Hu...  \n178  Mimico NW, The Queensway West, South of Bloor,...  \n\n[103 rows x 3 columns]",
      "text/html": "<div>\n<style scoped>\n    .dataframe tbody tr th:only-of-type {\n        vertical-align: middle;\n    }\n\n    .dataframe tbody tr th {\n        vertical-align: top;\n    }\n\n    .dataframe thead th {\n        text-align: right;\n    }\n</style>\n<table border=\"1\" class=\"dataframe\">\n  <thead>\n    <tr style=\"text-align: right;\">\n      <th></th>\n      <th>Postal code</th>\n      <th>Borough</th>\n      <th>Neighborhood</th>\n    </tr>\n  </thead>\n  <tbody>\n    <tr>\n      <td>2</td>\n      <td>M3A</td>\n      <td>North York</td>\n      <td>Parkwoods</td>\n    </tr>\n    <tr>\n      <td>3</td>\n      <td>M4A</td>\n      <td>North York</td>\n      <td>Victoria Village</td>\n    </tr>\n    <tr>\n      <td>4</td>\n      <td>M5A</td>\n      <td>Downtown Toronto</td>\n      <td>Regent Park, Harbourfront</td>\n    </tr>\n    <tr>\n      <td>5</td>\n      <td>M6A</td>\n      <td>North York</td>\n      <td>Lawrence Manor, Lawrence Heights</td>\n    </tr>\n    <tr>\n      <td>6</td>\n      <td>M7A</td>\n      <td>Downtown Toronto</td>\n      <td>Queen's Park, Ontario Provincial Government</td>\n    </tr>\n    <tr>\n      <td>...</td>\n      <td>...</td>\n      <td>...</td>\n      <td>...</td>\n    </tr>\n    <tr>\n      <td>160</td>\n      <td>M8X</td>\n      <td>Etobicoke</td>\n      <td>The Kingsway, Montgomery Road , Old Mill North</td>\n    </tr>\n    <tr>\n      <td>165</td>\n      <td>M4Y</td>\n      <td>Downtown Toronto</td>\n      <td>Church and Wellesley</td>\n    </tr>\n    <tr>\n      <td>168</td>\n      <td>M7Y</td>\n      <td>East Toronto</td>\n      <td>Business reply mail Processing CentrE</td>\n    </tr>\n    <tr>\n      <td>169</td>\n      <td>M8Y</td>\n      <td>Etobicoke</td>\n      <td>Old Mill South, King's Mill Park, Sunnylea, Hu...</td>\n    </tr>\n    <tr>\n      <td>178</td>\n      <td>M8Z</td>\n      <td>Etobicoke</td>\n      <td>Mimico NW, The Queensway West, South of Bloor,...</td>\n    </tr>\n  </tbody>\n</table>\n<p>103 rows × 3 columns</p>\n</div>"
     },
     "metadata": {},
     "execution_count": 5
    }
   ],
   "source": [
    "df_con1 = pd.DataFrame(rows,columns=columns) \n",
    "df_con2 = df_con1[df_con1.Borough != 'Not assigned']\n",
    "df_con3 = df_con2.replace(' / ',', ',regex=True)\n",
    "df_con3"
   ]
  },
  {
   "cell_type": "code",
   "execution_count": 6,
   "metadata": {},
   "outputs": [
    {
     "output_type": "execute_result",
     "data": {
      "text/plain": "(103, 3)"
     },
     "metadata": {},
     "execution_count": 6
    }
   ],
   "source": [
    "df_con3.shape"
   ]
  },
  {
   "cell_type": "markdown",
   "metadata": {},
   "source": [
    "## Part 2: Geo-Coding Neighborhoods"
   ]
  },
  {
   "cell_type": "markdown",
   "metadata": {},
   "source": [
    "Retrieve CSV files and store it as DataFrame"
   ]
  },
  {
   "cell_type": "code",
   "execution_count": 30,
   "metadata": {},
   "outputs": [
    {
     "output_type": "execute_result",
     "data": {
      "text/plain": "    Postal code           Borough  \\\n0           M3A        North York   \n1           M4A        North York   \n2           M5A  Downtown Toronto   \n3           M6A        North York   \n4           M7A  Downtown Toronto   \n..          ...               ...   \n98          M8X         Etobicoke   \n99          M4Y  Downtown Toronto   \n100         M7Y      East Toronto   \n101         M8Y         Etobicoke   \n102         M8Z         Etobicoke   \n\n                                          Neighborhood   Latitude  Longitude  \n0                                            Parkwoods  43.753259 -79.329656  \n1                                     Victoria Village  43.725882 -79.315572  \n2                            Regent Park, Harbourfront  43.654260 -79.360636  \n3                     Lawrence Manor, Lawrence Heights  43.718518 -79.464763  \n4          Queen's Park, Ontario Provincial Government  43.662301 -79.389494  \n..                                                 ...        ...        ...  \n98      The Kingsway, Montgomery Road , Old Mill North  43.653654 -79.506944  \n99                                Church and Wellesley  43.665860 -79.383160  \n100              Business reply mail Processing CentrE  43.662744 -79.321558  \n101  Old Mill South, King's Mill Park, Sunnylea, Hu...  43.636258 -79.498509  \n102  Mimico NW, The Queensway West, South of Bloor,...  43.628841 -79.520999  \n\n[103 rows x 5 columns]",
      "text/html": "<div>\n<style scoped>\n    .dataframe tbody tr th:only-of-type {\n        vertical-align: middle;\n    }\n\n    .dataframe tbody tr th {\n        vertical-align: top;\n    }\n\n    .dataframe thead th {\n        text-align: right;\n    }\n</style>\n<table border=\"1\" class=\"dataframe\">\n  <thead>\n    <tr style=\"text-align: right;\">\n      <th></th>\n      <th>Postal code</th>\n      <th>Borough</th>\n      <th>Neighborhood</th>\n      <th>Latitude</th>\n      <th>Longitude</th>\n    </tr>\n  </thead>\n  <tbody>\n    <tr>\n      <td>0</td>\n      <td>M3A</td>\n      <td>North York</td>\n      <td>Parkwoods</td>\n      <td>43.753259</td>\n      <td>-79.329656</td>\n    </tr>\n    <tr>\n      <td>1</td>\n      <td>M4A</td>\n      <td>North York</td>\n      <td>Victoria Village</td>\n      <td>43.725882</td>\n      <td>-79.315572</td>\n    </tr>\n    <tr>\n      <td>2</td>\n      <td>M5A</td>\n      <td>Downtown Toronto</td>\n      <td>Regent Park, Harbourfront</td>\n      <td>43.654260</td>\n      <td>-79.360636</td>\n    </tr>\n    <tr>\n      <td>3</td>\n      <td>M6A</td>\n      <td>North York</td>\n      <td>Lawrence Manor, Lawrence Heights</td>\n      <td>43.718518</td>\n      <td>-79.464763</td>\n    </tr>\n    <tr>\n      <td>4</td>\n      <td>M7A</td>\n      <td>Downtown Toronto</td>\n      <td>Queen's Park, Ontario Provincial Government</td>\n      <td>43.662301</td>\n      <td>-79.389494</td>\n    </tr>\n    <tr>\n      <td>...</td>\n      <td>...</td>\n      <td>...</td>\n      <td>...</td>\n      <td>...</td>\n      <td>...</td>\n    </tr>\n    <tr>\n      <td>98</td>\n      <td>M8X</td>\n      <td>Etobicoke</td>\n      <td>The Kingsway, Montgomery Road , Old Mill North</td>\n      <td>43.653654</td>\n      <td>-79.506944</td>\n    </tr>\n    <tr>\n      <td>99</td>\n      <td>M4Y</td>\n      <td>Downtown Toronto</td>\n      <td>Church and Wellesley</td>\n      <td>43.665860</td>\n      <td>-79.383160</td>\n    </tr>\n    <tr>\n      <td>100</td>\n      <td>M7Y</td>\n      <td>East Toronto</td>\n      <td>Business reply mail Processing CentrE</td>\n      <td>43.662744</td>\n      <td>-79.321558</td>\n    </tr>\n    <tr>\n      <td>101</td>\n      <td>M8Y</td>\n      <td>Etobicoke</td>\n      <td>Old Mill South, King's Mill Park, Sunnylea, Hu...</td>\n      <td>43.636258</td>\n      <td>-79.498509</td>\n    </tr>\n    <tr>\n      <td>102</td>\n      <td>M8Z</td>\n      <td>Etobicoke</td>\n      <td>Mimico NW, The Queensway West, South of Bloor,...</td>\n      <td>43.628841</td>\n      <td>-79.520999</td>\n    </tr>\n  </tbody>\n</table>\n<p>103 rows × 5 columns</p>\n</div>"
     },
     "metadata": {},
     "execution_count": 30
    }
   ],
   "source": [
    "#urre.urlretrieve('https://cocl.us/Geospatial_data','geo.csv')\n",
    "df_lalo = pd.read_csv('geo.csv')\n",
    "df_part2 = pd.merge(left=df_con3,right=df_lalo,left_on='Postal code', right_on='Postal Code')\n",
    "df_part2.drop(columns='Postal Code',inplace=True)\n",
    "df_part2"
   ]
  },
  {
   "cell_type": "code",
   "execution_count": null,
   "metadata": {},
   "outputs": [],
   "source": []
  }
 ],
 "metadata": {
  "language_info": {
   "codemirror_mode": {
    "name": "ipython",
    "version": 3
   },
   "file_extension": ".py",
   "mimetype": "text/x-python",
   "name": "python",
   "nbconvert_exporter": "python",
   "pygments_lexer": "ipython3",
   "version": "3.7.4-final"
  },
  "orig_nbformat": 2,
  "kernelspec": {
   "name": "python3",
   "display_name": "Python 3"
  }
 },
 "nbformat": 4,
 "nbformat_minor": 2
}
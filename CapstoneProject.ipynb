{
 "cells": [
  {
   "cell_type": "markdown",
   "metadata": {},
   "source": [
    "# Applied Data Science Capstone\n",
    "## Project Title: The Battle of Neighborhoods"
   ]
  },
  {
   "cell_type": "markdown",
   "metadata": {},
   "source": [
    "Introduction:\n",
    "The project is trying to find out the difference between Hong Kong and one of the BIG FOUR city in Maindland china, since most of conversions between Hongkongers and Chinese mentioned how great are their life and their diversity of choices to live.\n"
   ]
  },
  {
   "cell_type": "markdown",
   "metadata": {},
   "source": [
    "Data:  \n",
    "Data will of coures come from FourSquare API, making use of the explore function, we will make clusters for cities and compare the top 10 common venues of theirs.\n"
   ]
  },
  {
   "cell_type": "code",
   "execution_count": 1,
   "metadata": {},
   "outputs": [],
   "source": [
    "#import libraries\n",
    "import numpy as np\n",
    "import pandas as pd\n",
    "import json\n",
    "import requests\n",
    "from pandas.io.json import json_normalize\n",
    "import matplotlib.cm as cm\n",
    "import matplotlib.colors as colors\n",
    "from sklearn.cluster import KMeans\n",
    "import folium"
   ]
  },
  {
   "cell_type": "code",
   "execution_count": 2,
   "metadata": {},
   "outputs": [],
   "source": [
    "C_ID = 'NSNZ2FAIXDEOCGAZGQ2LBMBV3YMQL1X0J1KHFE1UA40R0SEB'\n",
    "C_SC = 'KFLH2TZRLVJXWMOLWVBDEGPBUFHS3OMGGH5BQRVV2PG5EECS'\n",
    "V = 20200509\n",
    "L = 100\n",
    "R = 500"
   ]
  },
  {
   "cell_type": "code",
   "execution_count": 3,
   "metadata": {},
   "outputs": [
    {
     "output_type": "execute_result",
     "data": {
      "text/plain": "'https://api.foursquare.com/v2/venues/explore?&client_id=NSNZ2FAIXDEOCGAZGQ2LBMBV3YMQL1X0J1KHFE1UA40R0SEB&client_secret=KFLH2TZRLVJXWMOLWVBDEGPBUFHS3OMGGH5BQRVV2PG5EECS&v=20200509&ll=31.28333,121.1622&radius=500&limit=100'"
     },
     "metadata": {},
     "execution_count": 3
    }
   ],
   "source": [
    "url = 'https://api.foursquare.com/v2/venues/explore?&client_id={}&client_secret={}&v={}&ll={},{}&radius={}&limit={}'.format(C_ID,C_SC,V,test_lat,test_lng,R,L)\n",
    "url"
   ]
  },
  {
   "cell_type": "code",
   "execution_count": 4,
   "metadata": {},
   "outputs": [],
   "source": [
    "results = requests.get(url).json()"
   ]
  },
  {
   "cell_type": "code",
   "execution_count": 5,
   "metadata": {},
   "outputs": [],
   "source": [
    "def getCategoryType(row):\n",
    "    try:\n",
    "        cate_list = row['categories']\n",
    "    except:\n",
    "        cate_list = row['venue.categories']\n",
    "    if len(cate_list) == 0:\n",
    "        return None\n",
    "    else:\n",
    "        return cate_list[0]['name'] "
   ]
  },
  {
   "cell_type": "code",
   "execution_count": 6,
   "metadata": {},
   "outputs": [
    {
     "output_type": "execute_result",
     "data": {
      "text/plain": "                                 name            categories        lat  \\\n0                             上海汽车博物馆        History Museum  31.280813   \n1                           KFC (肯德基)  Fast Food Restaurant  31.282988   \n2  Shanghai Auto Expo Park (上海汽车博览公园)                  Park  31.281811   \n3                Shanghai Auto Museum        Science Museum  31.280883   \n\n          lng  \n0  121.165556  \n1  121.162613  \n2  121.163765  \n3  121.165432  ",
      "text/html": "<div>\n<style scoped>\n    .dataframe tbody tr th:only-of-type {\n        vertical-align: middle;\n    }\n\n    .dataframe tbody tr th {\n        vertical-align: top;\n    }\n\n    .dataframe thead th {\n        text-align: right;\n    }\n</style>\n<table border=\"1\" class=\"dataframe\">\n  <thead>\n    <tr style=\"text-align: right;\">\n      <th></th>\n      <th>name</th>\n      <th>categories</th>\n      <th>lat</th>\n      <th>lng</th>\n    </tr>\n  </thead>\n  <tbody>\n    <tr>\n      <td>0</td>\n      <td>上海汽车博物馆</td>\n      <td>History Museum</td>\n      <td>31.280813</td>\n      <td>121.165556</td>\n    </tr>\n    <tr>\n      <td>1</td>\n      <td>KFC (肯德基)</td>\n      <td>Fast Food Restaurant</td>\n      <td>31.282988</td>\n      <td>121.162613</td>\n    </tr>\n    <tr>\n      <td>2</td>\n      <td>Shanghai Auto Expo Park (上海汽车博览公园)</td>\n      <td>Park</td>\n      <td>31.281811</td>\n      <td>121.163765</td>\n    </tr>\n    <tr>\n      <td>3</td>\n      <td>Shanghai Auto Museum</td>\n      <td>Science Museum</td>\n      <td>31.280883</td>\n      <td>121.165432</td>\n    </tr>\n  </tbody>\n</table>\n</div>"
     },
     "metadata": {},
     "execution_count": 6
    }
   ],
   "source": [
    "venues = results['response']['groups'][0]['items']\n",
    "    \n",
    "nearby_venues = json_normalize(venues) # flatten JSON\n",
    "\n",
    "# filter columns\n",
    "filtered_columns = ['venue.name', 'venue.categories', 'venue.location.lat', 'venue.location.lng']\n",
    "nearby_venues =nearby_venues.loc[:, filtered_columns]\n",
    "\n",
    "# filter the category for each row\n",
    "nearby_venues['venue.categories'] = nearby_venues.apply(getCategoryType, axis=1)\n",
    "\n",
    "# clean columns\n",
    "nearby_venues.columns = [col.split(\".\")[-1] for col in nearby_venues.columns]\n",
    "\n",
    "nearby_venues.head()"
   ]
  },
  {
   "cell_type": "code",
   "execution_count": 24,
   "metadata": {},
   "outputs": [],
   "source": [
    "#get a list of neighborhoods on SH\n",
    "#get the wiki HTML and read it in soup\n",
    "from bs4 import BeautifulSoup\n",
    "import urllib\n",
    "url = 'https://en.wikipedia.org/wiki/Category:Neighbourhoods_of_Shanghai'\n",
    "html = urllib.request.urlopen(url).read()\n",
    "soup = BeautifulSoup(html,'html.parser')"
   ]
  },
  {
   "cell_type": "code",
   "execution_count": 35,
   "metadata": {},
   "outputs": [
    {
     "output_type": "execute_result",
     "data": {
      "text/plain": "                                      Neighborhood\n0                                           Anting\n1                       Changshou Road Subdistrict\n2                                         Fengjing\n3                                Gaoqiao, Shanghai\n4                                  Gubei, Shanghai\n5                              Koreatown, Shanghai\n6                                         Lujiazui\n7                                Luodian, Shanghai\n8                                         Nanxiang\n9   Qiantan International Business Zone (Shanghai)\n10                                           Qibao\n11                                  Songjiang Town\n12                                      Tianzifang\n13                                          Wusong\n14                                       Xintiandi\n15                             Xinzhuang, Shanghai\n16                                        Xujiahui\n17                                 Zhangjiang Town\n18                                      Zhujiajiao",
      "text/html": "<div>\n<style scoped>\n    .dataframe tbody tr th:only-of-type {\n        vertical-align: middle;\n    }\n\n    .dataframe tbody tr th {\n        vertical-align: top;\n    }\n\n    .dataframe thead th {\n        text-align: right;\n    }\n</style>\n<table border=\"1\" class=\"dataframe\">\n  <thead>\n    <tr style=\"text-align: right;\">\n      <th></th>\n      <th>Neighborhood</th>\n    </tr>\n  </thead>\n  <tbody>\n    <tr>\n      <td>0</td>\n      <td>Anting</td>\n    </tr>\n    <tr>\n      <td>1</td>\n      <td>Changshou Road Subdistrict</td>\n    </tr>\n    <tr>\n      <td>2</td>\n      <td>Fengjing</td>\n    </tr>\n    <tr>\n      <td>3</td>\n      <td>Gaoqiao, Shanghai</td>\n    </tr>\n    <tr>\n      <td>4</td>\n      <td>Gubei, Shanghai</td>\n    </tr>\n    <tr>\n      <td>5</td>\n      <td>Koreatown, Shanghai</td>\n    </tr>\n    <tr>\n      <td>6</td>\n      <td>Lujiazui</td>\n    </tr>\n    <tr>\n      <td>7</td>\n      <td>Luodian, Shanghai</td>\n    </tr>\n    <tr>\n      <td>8</td>\n      <td>Nanxiang</td>\n    </tr>\n    <tr>\n      <td>9</td>\n      <td>Qiantan International Business Zone (Shanghai)</td>\n    </tr>\n    <tr>\n      <td>10</td>\n      <td>Qibao</td>\n    </tr>\n    <tr>\n      <td>11</td>\n      <td>Songjiang Town</td>\n    </tr>\n    <tr>\n      <td>12</td>\n      <td>Tianzifang</td>\n    </tr>\n    <tr>\n      <td>13</td>\n      <td>Wusong</td>\n    </tr>\n    <tr>\n      <td>14</td>\n      <td>Xintiandi</td>\n    </tr>\n    <tr>\n      <td>15</td>\n      <td>Xinzhuang, Shanghai</td>\n    </tr>\n    <tr>\n      <td>16</td>\n      <td>Xujiahui</td>\n    </tr>\n    <tr>\n      <td>17</td>\n      <td>Zhangjiang Town</td>\n    </tr>\n    <tr>\n      <td>18</td>\n      <td>Zhujiajiao</td>\n    </tr>\n  </tbody>\n</table>\n</div>"
     },
     "metadata": {},
     "execution_count": 35
    }
   ],
   "source": [
    "#find targeted class of content\n",
    "table = soup.find('div',{'class':'mw-content-ltr'})\n",
    "#find all links\n",
    "allLinks = table.findAll('a')\n",
    "#expell all useless link\n",
    "all_nei_links = allLinks[13:]\n",
    "all_nei_links\n",
    "#store links title to a list\n",
    "sh_nei = []\n",
    "for link in all_nei_links:\n",
    "    sh_nei.append(link.get('title'))\n",
    "#done\n",
    "#sh_nei\n",
    "df_sh = pd.DataFrame()\n",
    "df_sh['Neighborhood'] = sh_nei\n",
    "df_sh"
   ]
  },
  {
   "cell_type": "code",
   "execution_count": null,
   "metadata": {},
   "outputs": [],
   "source": [
    "#get neighborhood coordinates and append to df_sh, if no result, then return nan\n",
    "def getCoord()\n"
   ]
  }
 ],
 "metadata": {
  "language_info": {
   "codemirror_mode": {
    "name": "ipython",
    "version": 3
   },
   "file_extension": ".py",
   "mimetype": "text/x-python",
   "name": "python",
   "nbconvert_exporter": "python",
   "pygments_lexer": "ipython3",
   "version": "3.7.4-final"
  },
  "orig_nbformat": 2,
  "kernelspec": {
   "name": "python3",
   "display_name": "Python 3"
  }
 },
 "nbformat": 4,
 "nbformat_minor": 2
}
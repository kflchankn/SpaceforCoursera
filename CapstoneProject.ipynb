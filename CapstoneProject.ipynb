{
 "cells": [
  {
   "cell_type": "markdown",
   "metadata": {},
   "source": [
    "# Applied Data Science Capstone\n",
    "## Project Title: The Battle of Neighborhoods"
   ]
  },
  {
   "cell_type": "markdown",
   "metadata": {},
   "source": [
    "Introduction:\n"
   ]
  },
  {
   "cell_type": "markdown",
   "metadata": {},
   "source": [
    "Data:"
   ]
  },
  {
   "cell_type": "code",
   "execution_count": 1,
   "metadata": {},
   "outputs": [],
   "source": [
    "#import libraries\n",
    "import numpy as np\n",
    "import pandas as pd\n",
    "import json\n",
    "import requests\n",
    "from pandas.io.json import json_normalize\n",
    "import matplotlib.cm as cm\n",
    "import matplotlib.colors as colors\n",
    "from sklearn.cluster import KMeans\n",
    "import folium"
   ]
  },
  {
   "cell_type": "code",
   "execution_count": 3,
   "metadata": {},
   "outputs": [],
   "source": [
    "C_ID = 'NSNZ2FAIXDEOCGAZGQ2LBMBV3YMQL1X0J1KHFE1UA40R0SEB'\n",
    "C_SC = 'KFLH2TZRLVJXWMOLWVBDEGPBUFHS3OMGGH5BQRVV2PG5EECS'\n",
    "V = 20200509\n",
    "L = 100\n",
    "R = 500\n",
    "test_lat = 31.28333\n",
    "test_lng = 121.1622"
   ]
  },
  {
   "cell_type": "code",
   "execution_count": 4,
   "metadata": {},
   "outputs": [
    {
     "output_type": "execute_result",
     "data": {
      "text/plain": "'https://api.foursquare.com/v2/venues/explore?&client_id=NSNZ2FAIXDEOCGAZGQ2LBMBV3YMQL1X0J1KHFE1UA40R0SEB&client_secret=KFLH2TZRLVJXWMOLWVBDEGPBUFHS3OMGGH5BQRVV2PG5EECS&v=20200509&ll=31.28333,121.1622&radius=500&limit=100'"
     },
     "metadata": {},
     "execution_count": 4
    }
   ],
   "source": [
    "url = 'https://api.foursquare.com/v2/venues/explore?&client_id={}&client_secret={}&v={}&ll={},{}&radius={}&limit={}'.format(C_ID,C_SC,V,test_lat,test_lng,R,L)\n",
    "url"
   ]
  },
  {
   "cell_type": "code",
   "execution_count": 6,
   "metadata": {},
   "outputs": [],
   "source": [
    "results = requests.get(url).json()"
   ]
  },
  {
   "cell_type": "code",
   "execution_count": 7,
   "metadata": {},
   "outputs": [],
   "source": [
    "def getCategoryType(row):\n",
    "    try:\n",
    "        cate_list = row['categories']\n",
    "    except:\n",
    "        cate_list = row['venue.categories']\n",
    "    if len(cate_list) == 0:\n",
    "        return None\n",
    "    else:\n",
    "        return cate_list[0]['name'] "
   ]
  },
  {
   "cell_type": "code",
   "execution_count": 8,
   "metadata": {},
   "outputs": [
    {
     "output_type": "execute_result",
     "data": {
      "text/plain": "                                 name  ...         lng\n0                             上海汽车博物馆  ...  121.165556\n1  Shanghai Auto Expo Park (上海汽车博览公园)  ...  121.163765\n2                Shanghai Auto Museum  ...  121.165432\n3                                 超级丼  ...  121.162746\n\n[4 rows x 4 columns]",
      "text/html": "<div>\n<style scoped>\n    .dataframe tbody tr th:only-of-type {\n        vertical-align: middle;\n    }\n\n    .dataframe tbody tr th {\n        vertical-align: top;\n    }\n\n    .dataframe thead th {\n        text-align: right;\n    }\n</style>\n<table border=\"1\" class=\"dataframe\">\n  <thead>\n    <tr style=\"text-align: right;\">\n      <th></th>\n      <th>name</th>\n      <th>categories</th>\n      <th>lat</th>\n      <th>lng</th>\n    </tr>\n  </thead>\n  <tbody>\n    <tr>\n      <td>0</td>\n      <td>上海汽车博物馆</td>\n      <td>History Museum</td>\n      <td>31.280813</td>\n      <td>121.165556</td>\n    </tr>\n    <tr>\n      <td>1</td>\n      <td>Shanghai Auto Expo Park (上海汽车博览公园)</td>\n      <td>Park</td>\n      <td>31.281811</td>\n      <td>121.163765</td>\n    </tr>\n    <tr>\n      <td>2</td>\n      <td>Shanghai Auto Museum</td>\n      <td>Science Museum</td>\n      <td>31.280883</td>\n      <td>121.165432</td>\n    </tr>\n    <tr>\n      <td>3</td>\n      <td>超级丼</td>\n      <td>Japanese Restaurant</td>\n      <td>31.287599</td>\n      <td>121.162746</td>\n    </tr>\n  </tbody>\n</table>\n</div>"
     },
     "metadata": {},
     "execution_count": 8
    }
   ],
   "source": [
    "venues = results['response']['groups'][0]['items']\n",
    "    \n",
    "nearby_venues = json_normalize(venues) # flatten JSON\n",
    "\n",
    "# filter columns\n",
    "filtered_columns = ['venue.name', 'venue.categories', 'venue.location.lat', 'venue.location.lng']\n",
    "nearby_venues =nearby_venues.loc[:, filtered_columns]\n",
    "\n",
    "# filter the category for each row\n",
    "nearby_venues['venue.categories'] = nearby_venues.apply(getCategoryType, axis=1)\n",
    "\n",
    "# clean columns\n",
    "nearby_venues.columns = [col.split(\".\")[-1] for col in nearby_venues.columns]\n",
    "\n",
    "nearby_venues.head()"
   ]
  },
  {
   "cell_type": "code",
   "execution_count": null,
   "metadata": {},
   "outputs": [],
   "source": []
  }
 ],
 "metadata": {
  "language_info": {
   "codemirror_mode": {
    "name": "ipython",
    "version": 3
   },
   "file_extension": ".py",
   "mimetype": "text/x-python",
   "name": "python",
   "nbconvert_exporter": "python",
   "pygments_lexer": "ipython3",
   "version": "3.7.4-final"
  },
  "orig_nbformat": 2,
  "kernelspec": {
   "name": "python3",
   "display_name": "Python 3"
  }
 },
 "nbformat": 4,
 "nbformat_minor": 2
}
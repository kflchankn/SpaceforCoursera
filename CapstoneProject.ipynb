{
 "cells": [
  {
   "cell_type": "markdown",
   "metadata": {},
   "source": [
    "# Applied Data Science Capstone\n",
    "## Project Title: The Battle of Neighborhoods"
   ]
  },
  {
   "cell_type": "markdown",
   "metadata": {},
   "source": [
    "### Importing libraries"
   ]
  },
  {
   "cell_type": "code",
   "execution_count": 40,
   "metadata": {},
   "outputs": [],
   "source": [
    "import numpy as np\n",
    "import pandas as pd\n",
    "import json\n",
    "import requests\n",
    "from pandas.io.json import json_normalize\n",
    "import matplotlib.cm as cm\n",
    "import matplotlib.colors as colors\n",
    "from sklearn.cluster import KMeans\n",
    "import folium\n",
    "import googlemaps #Official library for python"
   ]
  },
  {
   "cell_type": "code",
   "execution_count": 2,
   "metadata": {},
   "outputs": [],
   "source": [
    "API_KEY = ''\n",
    "R = 1500\n",
    "tst_lat = 22.293981\n",
    "tst_lng = 114.171219\n",
    "npt = ''"
   ]
  },
  {
   "cell_type": "code",
   "execution_count": 5,
   "metadata": {},
   "outputs": [],
   "source": [
    "gmaps = googlemaps.Client(key=API_KEY)"
   ]
  },
  {
   "cell_type": "markdown",
   "metadata": {},
   "source": [
    "### Function 'places_nearby' will return places available on Google Maps, Input the location and radius or with other options, return first 20 results, center by location corrdinates and area is within the radius, and the token to next page of results are more than 20"
   ]
  },
  {
   "cell_type": "code",
   "execution_count": 6,
   "metadata": {},
   "outputs": [],
   "source": [
    "gr = gmaps.places_nearby(location=(tst_lat,tst_lng),radius=1500)"
   ]
  },
  {
   "cell_type": "code",
   "execution_count": 13,
   "metadata": {},
   "outputs": [],
   "source": [
    "grN = gmaps.places_nearby(page_token=gr['next_page_token'])"
   ]
  },
  {
   "cell_type": "code",
   "execution_count": 14,
   "metadata": {},
   "outputs": [
    {
     "output_type": "execute_result",
     "data": {
      "text/plain": "'CsQDswEAAPs35xC5Gq_1sZnOGoTSiMpRF2Ox40vonh-FrNLruMhVcNxghpUgxoVFgDDyyQNkn5XQlm8Nj08PJRYPY7TRS1AsSYtehht1StzVD9Eqy38xWvVAbg_tQc8CWBOR1W4SvfdNcNlSCXA-O90YTg7qObeV1TQTDEVMh5qX4jL28L1Z82Xmq5Fs6yEsOdgidVLIfhdPbEdd1jr8HZciE2a9O9Ghdhb65RIysKQTEu37_c51B70T9wm7tUO8H85YakoizPSuiHvHQG7LeThgZprXITJLF0ZrJ0M4wTm72r42I0RpFkMxX9q9fVvF59kLTp-qL75c5OL2nuCZbqPKwyFB365Y-uUXHsug8lhs0ygJF6zwCJMn25AdnWt0wLQ0p7gli_X6SqeCut3Xq8TZRXezK73ToYwqBcArVkLwvC59n35isskwGJ4LqrJSfarW-935sRtppiZxAq_iEQAHIX6U_G3JLIZkhKXNEfMMEeJdXuHdLrwtowSeiVsSSPuAz7CXUvYj1XsuBs7PyAPmYFWrT343EXEg51ON5XWkUA478MRsSgznZIIp8cDqpcz2Xhn_MkEKhSWLnlmSi0q2e1e0v4ASEAfkKk37eTiHP2Cprr8OHKcaFM037xZUKxJZm6aOhfT9Nn7In5ZQ'"
     },
     "metadata": {},
     "execution_count": 14
    }
   ],
   "source": [
    "grN['next_page_token']"
   ]
  },
  {
   "cell_type": "code",
   "execution_count": 157,
   "metadata": {},
   "outputs": [],
   "source": [
    "def getAllNerby(lat,lng):\n",
    "    first_result = gmaps.places_nearby(location=(lat,lng),radius=1500)\n",
    "    allResult = []\n",
    "    allResult.append(first_result)\n",
    "    if first_result['next_page_token']:\n",
    "        npt = first_result['next_page_token']\n",
    "        other_result = gmaps.places_nearby(page_token=npt)\n",
    "        allResult.append(other_result)\n",
    "        npt = other_result['next_page_token']\n",
    "    return allResult"
   ]
  },
  {
   "cell_type": "code",
   "execution_count": 159,
   "metadata": {
    "tags": []
   },
   "outputs": [
    {
     "output_type": "stream",
     "name": "stdout",
     "text": "CqQCEwEAADk9jrrQEB1rhFYUvJ4XBJBxdHll3E_b1daNAXqqOfWOnTh_WBi--XgbFftw_GMtPIqVqzoxam6X2AB9N97xagGxce27IsmmAqcVEg9AZvXQFjbjdVBXJDJFejtjDqntvM2PqpCygqGJn7Jmnwj5UNLwFDuKJXl_UrNcFg5o_OFtq5V9zpnb3Xrrjxye4A8vOl5fDufymOzM_5y70smrrVNeQcJvMlCxuHkLRmmwbTUkg4-sLg6cJGB2UA121N6_WA-AnsxDWpjGUTNoSUWIYoYgqt8EaIGCA5GOVS0gsXJV39Xe77ad6_bVKRakzlRbH-ZPWGjRWEHfUvuIW_jGqzKwclR7siBDhDaoMWutLDPhB7JEGMlvtlM5nVpAwIKnQRIQM36-rPTyJI1mODGSsvPXWxoUmtpCYa8xz3ot8YdyWILPpg20NF8\n"
    },
    {
     "output_type": "error",
     "ename": "ApiError",
     "evalue": "INVALID_REQUEST",
     "traceback": [
      "\u001b[1;31m---------------------------------------------------------------------------\u001b[0m",
      "\u001b[1;31mApiError\u001b[0m                                  Traceback (most recent call last)",
      "\u001b[1;32m<ipython-input-159-1c295cd04220>\u001b[0m in \u001b[0;36m<module>\u001b[1;34m\u001b[0m\n\u001b[1;32m----> 1\u001b[1;33m \u001b[0mtst_nearby\u001b[0m \u001b[1;33m=\u001b[0m \u001b[0mgetAllNerby\u001b[0m\u001b[1;33m(\u001b[0m\u001b[0mtst_lat\u001b[0m\u001b[1;33m,\u001b[0m\u001b[0mtst_lng\u001b[0m\u001b[1;33m)\u001b[0m\u001b[1;33m\u001b[0m\u001b[1;33m\u001b[0m\u001b[0m\n\u001b[0m",
      "\u001b[1;32m<ipython-input-157-cee6ac7d71a1>\u001b[0m in \u001b[0;36mgetAllNerby\u001b[1;34m(lat, lng)\u001b[0m\n\u001b[0;32m      6\u001b[0m         \u001b[0mnpt\u001b[0m \u001b[1;33m=\u001b[0m \u001b[0mfirst_result\u001b[0m\u001b[1;33m[\u001b[0m\u001b[1;34m'next_page_token'\u001b[0m\u001b[1;33m]\u001b[0m\u001b[1;33m\u001b[0m\u001b[1;33m\u001b[0m\u001b[0m\n\u001b[0;32m      7\u001b[0m         \u001b[0mprint\u001b[0m\u001b[1;33m(\u001b[0m\u001b[0mnpt\u001b[0m\u001b[1;33m)\u001b[0m\u001b[1;33m\u001b[0m\u001b[1;33m\u001b[0m\u001b[0m\n\u001b[1;32m----> 8\u001b[1;33m         \u001b[0mother_result\u001b[0m \u001b[1;33m=\u001b[0m \u001b[0mgmaps\u001b[0m\u001b[1;33m.\u001b[0m\u001b[0mplaces_nearby\u001b[0m\u001b[1;33m(\u001b[0m\u001b[0mpage_token\u001b[0m\u001b[1;33m=\u001b[0m\u001b[0mnpt\u001b[0m\u001b[1;33m)\u001b[0m\u001b[1;33m\u001b[0m\u001b[1;33m\u001b[0m\u001b[0m\n\u001b[0m\u001b[0;32m      9\u001b[0m         \u001b[0mallResult\u001b[0m\u001b[1;33m.\u001b[0m\u001b[0mappend\u001b[0m\u001b[1;33m(\u001b[0m\u001b[0mother_result\u001b[0m\u001b[1;33m)\u001b[0m\u001b[1;33m\u001b[0m\u001b[1;33m\u001b[0m\u001b[0m\n\u001b[0;32m     10\u001b[0m         \u001b[0mnpt\u001b[0m \u001b[1;33m=\u001b[0m \u001b[0mother_result\u001b[0m\u001b[1;33m[\u001b[0m\u001b[1;34m'next_page_token'\u001b[0m\u001b[1;33m]\u001b[0m\u001b[1;33m\u001b[0m\u001b[1;33m\u001b[0m\u001b[0m\n",
      "\u001b[1;32mC:\\ProgramData\\Anaconda3\\lib\\site-packages\\googlemaps\\client.py\u001b[0m in \u001b[0;36mwrapper\u001b[1;34m(*args, **kwargs)\u001b[0m\n\u001b[0;32m    416\u001b[0m     \u001b[1;32mdef\u001b[0m \u001b[0mwrapper\u001b[0m\u001b[1;33m(\u001b[0m\u001b[1;33m*\u001b[0m\u001b[0margs\u001b[0m\u001b[1;33m,\u001b[0m \u001b[1;33m**\u001b[0m\u001b[0mkwargs\u001b[0m\u001b[1;33m)\u001b[0m\u001b[1;33m:\u001b[0m\u001b[1;33m\u001b[0m\u001b[1;33m\u001b[0m\u001b[0m\n\u001b[0;32m    417\u001b[0m         \u001b[0margs\u001b[0m\u001b[1;33m[\u001b[0m\u001b[1;36m0\u001b[0m\u001b[1;33m]\u001b[0m\u001b[1;33m.\u001b[0m\u001b[0m_extra_params\u001b[0m \u001b[1;33m=\u001b[0m \u001b[0mkwargs\u001b[0m\u001b[1;33m.\u001b[0m\u001b[0mpop\u001b[0m\u001b[1;33m(\u001b[0m\u001b[1;34m\"extra_params\"\u001b[0m\u001b[1;33m,\u001b[0m \u001b[1;32mNone\u001b[0m\u001b[1;33m)\u001b[0m\u001b[1;33m\u001b[0m\u001b[1;33m\u001b[0m\u001b[0m\n\u001b[1;32m--> 418\u001b[1;33m         \u001b[0mresult\u001b[0m \u001b[1;33m=\u001b[0m \u001b[0mfunc\u001b[0m\u001b[1;33m(\u001b[0m\u001b[1;33m*\u001b[0m\u001b[0margs\u001b[0m\u001b[1;33m,\u001b[0m \u001b[1;33m**\u001b[0m\u001b[0mkwargs\u001b[0m\u001b[1;33m)\u001b[0m\u001b[1;33m\u001b[0m\u001b[1;33m\u001b[0m\u001b[0m\n\u001b[0m\u001b[0;32m    419\u001b[0m         \u001b[1;32mtry\u001b[0m\u001b[1;33m:\u001b[0m\u001b[1;33m\u001b[0m\u001b[1;33m\u001b[0m\u001b[0m\n\u001b[0;32m    420\u001b[0m             \u001b[1;32mdel\u001b[0m \u001b[0margs\u001b[0m\u001b[1;33m[\u001b[0m\u001b[1;36m0\u001b[0m\u001b[1;33m]\u001b[0m\u001b[1;33m.\u001b[0m\u001b[0m_extra_params\u001b[0m\u001b[1;33m\u001b[0m\u001b[1;33m\u001b[0m\u001b[0m\n",
      "\u001b[1;32mC:\\ProgramData\\Anaconda3\\lib\\site-packages\\googlemaps\\places.py\u001b[0m in \u001b[0;36mplaces_nearby\u001b[1;34m(client, location, radius, keyword, language, min_price, max_price, name, open_now, rank_by, type, page_token)\u001b[0m\n\u001b[0;32m    355\u001b[0m         \u001b[0mrank_by\u001b[0m\u001b[1;33m=\u001b[0m\u001b[0mrank_by\u001b[0m\u001b[1;33m,\u001b[0m\u001b[1;33m\u001b[0m\u001b[1;33m\u001b[0m\u001b[0m\n\u001b[0;32m    356\u001b[0m         \u001b[0mtype\u001b[0m\u001b[1;33m=\u001b[0m\u001b[0mtype\u001b[0m\u001b[1;33m,\u001b[0m\u001b[1;33m\u001b[0m\u001b[1;33m\u001b[0m\u001b[0m\n\u001b[1;32m--> 357\u001b[1;33m         \u001b[0mpage_token\u001b[0m\u001b[1;33m=\u001b[0m\u001b[0mpage_token\u001b[0m\u001b[1;33m,\u001b[0m\u001b[1;33m\u001b[0m\u001b[1;33m\u001b[0m\u001b[0m\n\u001b[0m\u001b[0;32m    358\u001b[0m     )\n\u001b[0;32m    359\u001b[0m \u001b[1;33m\u001b[0m\u001b[0m\n",
      "\u001b[1;32mC:\\ProgramData\\Anaconda3\\lib\\site-packages\\googlemaps\\places.py\u001b[0m in \u001b[0;36m_places\u001b[1;34m(client, url_part, query, location, radius, keyword, language, min_price, max_price, name, open_now, rank_by, type, region, page_token)\u001b[0m\n\u001b[0;32m    407\u001b[0m \u001b[1;33m\u001b[0m\u001b[0m\n\u001b[0;32m    408\u001b[0m     \u001b[0murl\u001b[0m \u001b[1;33m=\u001b[0m \u001b[1;34m\"/maps/api/place/%ssearch/json\"\u001b[0m \u001b[1;33m%\u001b[0m \u001b[0murl_part\u001b[0m\u001b[1;33m\u001b[0m\u001b[1;33m\u001b[0m\u001b[0m\n\u001b[1;32m--> 409\u001b[1;33m     \u001b[1;32mreturn\u001b[0m \u001b[0mclient\u001b[0m\u001b[1;33m.\u001b[0m\u001b[0m_request\u001b[0m\u001b[1;33m(\u001b[0m\u001b[0murl\u001b[0m\u001b[1;33m,\u001b[0m \u001b[0mparams\u001b[0m\u001b[1;33m)\u001b[0m\u001b[1;33m\u001b[0m\u001b[1;33m\u001b[0m\u001b[0m\n\u001b[0m\u001b[0;32m    410\u001b[0m \u001b[1;33m\u001b[0m\u001b[0m\n\u001b[0;32m    411\u001b[0m \u001b[1;33m\u001b[0m\u001b[0m\n",
      "\u001b[1;32mC:\\ProgramData\\Anaconda3\\lib\\site-packages\\googlemaps\\client.py\u001b[0m in \u001b[0;36m_request\u001b[1;34m(self, url, params, first_request_time, retry_counter, base_url, accepts_clientid, extract_body, requests_kwargs, post_json)\u001b[0m\n\u001b[0;32m    311\u001b[0m                 \u001b[0mresult\u001b[0m \u001b[1;33m=\u001b[0m \u001b[0mextract_body\u001b[0m\u001b[1;33m(\u001b[0m\u001b[0mresponse\u001b[0m\u001b[1;33m)\u001b[0m\u001b[1;33m\u001b[0m\u001b[1;33m\u001b[0m\u001b[0m\n\u001b[0;32m    312\u001b[0m             \u001b[1;32melse\u001b[0m\u001b[1;33m:\u001b[0m\u001b[1;33m\u001b[0m\u001b[1;33m\u001b[0m\u001b[0m\n\u001b[1;32m--> 313\u001b[1;33m                 \u001b[0mresult\u001b[0m \u001b[1;33m=\u001b[0m \u001b[0mself\u001b[0m\u001b[1;33m.\u001b[0m\u001b[0m_get_body\u001b[0m\u001b[1;33m(\u001b[0m\u001b[0mresponse\u001b[0m\u001b[1;33m)\u001b[0m\u001b[1;33m\u001b[0m\u001b[1;33m\u001b[0m\u001b[0m\n\u001b[0m\u001b[0;32m    314\u001b[0m             \u001b[0mself\u001b[0m\u001b[1;33m.\u001b[0m\u001b[0msent_times\u001b[0m\u001b[1;33m.\u001b[0m\u001b[0mappend\u001b[0m\u001b[1;33m(\u001b[0m\u001b[0mtime\u001b[0m\u001b[1;33m.\u001b[0m\u001b[0mtime\u001b[0m\u001b[1;33m(\u001b[0m\u001b[1;33m)\u001b[0m\u001b[1;33m)\u001b[0m\u001b[1;33m\u001b[0m\u001b[1;33m\u001b[0m\u001b[0m\n\u001b[0;32m    315\u001b[0m             \u001b[1;32mreturn\u001b[0m \u001b[0mresult\u001b[0m\u001b[1;33m\u001b[0m\u001b[1;33m\u001b[0m\u001b[0m\n",
      "\u001b[1;32mC:\\ProgramData\\Anaconda3\\lib\\site-packages\\googlemaps\\client.py\u001b[0m in \u001b[0;36m_get_body\u001b[1;34m(self, response)\u001b[0m\n\u001b[0;32m    341\u001b[0m \u001b[1;33m\u001b[0m\u001b[0m\n\u001b[0;32m    342\u001b[0m         raise googlemaps.exceptions.ApiError(api_status,\n\u001b[1;32m--> 343\u001b[1;33m                                              body.get(\"error_message\"))\n\u001b[0m\u001b[0;32m    344\u001b[0m \u001b[1;33m\u001b[0m\u001b[0m\n\u001b[0;32m    345\u001b[0m     \u001b[1;32mdef\u001b[0m \u001b[0m_generate_auth_url\u001b[0m\u001b[1;33m(\u001b[0m\u001b[0mself\u001b[0m\u001b[1;33m,\u001b[0m \u001b[0mpath\u001b[0m\u001b[1;33m,\u001b[0m \u001b[0mparams\u001b[0m\u001b[1;33m,\u001b[0m \u001b[0maccepts_clientid\u001b[0m\u001b[1;33m)\u001b[0m\u001b[1;33m:\u001b[0m\u001b[1;33m\u001b[0m\u001b[1;33m\u001b[0m\u001b[0m\n",
      "\u001b[1;31mApiError\u001b[0m: INVALID_REQUEST"
     ]
    }
   ],
   "source": [
    "tst_nearby = getAllNerby(tst_lat,tst_lng)"
   ]
  },
  {
   "cell_type": "code",
   "execution_count": 138,
   "metadata": {
    "tags": []
   },
   "outputs": [],
   "source": [
    "for i in range(len(allResult)):\n",
    "    get_places_detail(allResult[i]['results'])"
   ]
  },
  {
   "cell_type": "code",
   "execution_count": 139,
   "metadata": {
    "tags": []
   },
   "outputs": [],
   "source": [
    "tst_result = pd.DataFrame(list(allResult[1]['results']))"
   ]
  },
  {
   "cell_type": "code",
   "execution_count": 140,
   "metadata": {},
   "outputs": [
    {
     "output_type": "execute_result",
     "data": {
      "text/plain": "6134, 'lng': 114.17...   \nLargos Hotel                           {'location': {'lat': 22.306311, 'lng': 114.172...   \nButterfly on Prat 晋逸精品酒店 尖沙咀           {'location': {'lat': 22.2984542, 'lng': 114.17...   \nThe Luxe Manor                         {'location': {'lat': 22.3008333, 'lng': 114.17...   \nKing Ludwig Beerhall                   {'location': {'lat': 22.2952576, 'lng': 114.17...   \nLobby Lounge at Kowloon Shangri-La     {'location': {'lat': 22.2971066, 'lng': 114.17...   \nCrystal Jade                           {'location': {'lat': 22.29677, 'lng': 114.1681...   \nRed Mr                                 {'location': {'lat': 22.2981206, 'lng': 114.17...   \nEmbassy Hotel Group                    {'location': {'lat': 22.3051596, 'lng': 114.17...   \n\n                                                                                    icon  \\\nname                                                                                       \nHotel Madera Hong Kong                 https://maps.gstatic.com/mapfiles/place_api/ic...   \nMarco Polo Hongkong Hotel              https://maps.gstatic.com/mapfiles/place_api/ic...   \nEmpire Hotel Kowloon - Tsim Sha Tsui   https://maps.gstatic.com/mapfiles/place_api/ic...   \nThe Royal Garden                       https://maps.gstatic.com/mapfiles/place_api/ic...   \nYamm                                   https://maps.gstatic.com/mapfiles/place_api/ic...   \nBest Western Plus Hotel Kowloon        https://maps.gstatic.com/mapfiles/place_api/ic...   \nNovotel Hong Kong Nathan Road Kowloon  https://maps.gstatic.com/mapfiles/place_api/ic...   \nChelsea Hotel                          https://maps.gstatic.com/mapfiles/place_api/ic...   \nOasis Avenue                           https://maps.gstatic.com/mapfiles/place_api/ic...   \nHarbour Plaza Metropolis               https://maps.gstatic.com/mapfiles/place_api/ic...   \nThe Café                               https://maps.gstatic.com/mapfiles/place_api/ic...   \nPaisano's Pizzeria Tsim Sha Tsui       https://maps.gstatic.com/mapfiles/place_api/ic...   \nLargos Hotel                           https://maps.gstatic.com/mapfiles/place_api/ic...   \nButterfly on Prat 晋逸精品酒店 尖沙咀           https://maps.gstatic.com/mapfiles/place_api/ic...   \nThe Luxe Manor                         https://maps.gstatic.com/mapfiles/place_api/ic...   \nKing Ludwig Beerhall                   https://maps.gstatic.com/mapfiles/place_api/ic...   \nLobby Lounge at Kowloon Shangri-La     https://maps.gstatic.com/mapfiles/place_api/ic...   \nCrystal Jade                           https://maps.gstatic.com/mapfiles/place_api/ic...   \nRed Mr                                 https://maps.gstatic.com/mapfiles/place_api/ic...   \nEmbassy Hotel Group                    https://maps.gstatic.com/mapfiles/place_api/ic...   \n\n                                                                             id  \\\nname                                                                              \nHotel Madera Hong Kong                 21e78d794904feebc0098e9af9db04a3527f30e7   \nMarco Polo Hongkong Hotel              f708b04f12d679ec1b42faab770ea7802ccfc2c8   \nEmpire Hotel Kowloon - Tsim Sha Tsui   61de83059496cd07c0bb8405d476b2656f5277cf   \nThe Royal Garden                       e54cc348307422b0531accc88f25e918fdcf6e42   \nYamm                                   b38cdcf0726cf26dce8e2e58bafceec1e8cfb9e7   \nBest Western Plus Hotel Kowloon        45f6ed0edb72ab72470fc46974f70b24189824bd   \nNovotel Hong Kong Nathan Road Kowloon  59726d851e0738cd0bfc27434f566afc1a1473fb   \nChelsea Hotel                          b8a5f409e8a7475e8d591b018ae96f29ecb1a4a0   \nOasis Avenue                           d0b2a0f47a0ccd7fbf17f10c2188a1bbc861915b   \nHarbour Plaza Metropolis               f33791412d8bfca05ed9efed6747881d1a7f7f79   \nThe Café                               ca61b5a170812b2b47ba607ed054cfcd7b3323f3   \nPaisano's Pizzeria Tsim Sha Tsui       fdc870f0ac6e05071e6c388f518fe9ea79141719   \nLargos Hotel                           0dd4c2f255c8e7aaf9e44994bf010da78d6fe89c   \nButterfly on Prat 晋逸精品酒店 尖沙咀           ec7b40852698e7df4aa13273bc0ed92a7308bf80   \nThe Luxe Manor                         73b8eb9c24a01bcbbf292c23b03e69f17995667e   \nKing Ludwig Beerhall                   dda8e3bc65d8224498253bb13b9f6dbba325d836   \nLobby Lounge at Kowloon Shangri-La     a029266cf9fdf2c34ace5ba3adc3e69ced385797   \nCrystal Jade                           3c5b7ae5126b4bc0838dcc699475f12047f42e86   \nRed Mr                                 6081fd735528433131517873b15adfbca46e5898   \nEmbassy Hotel Group                    46141485494d00ef1ab4e0a467f5d8cc6658efeb   \n\n                                                                                  photos  \\\nname                                                                                       \nHotel Madera Hong Kong                 [{'height': 4032, 'html_attributions': ['<a hr...   \nMarco Polo Hongkong Hotel              [{'height': 1575, 'html_attributions': ['<a hr...   \nEmpire Hotel Kowloon - Tsim Sha Tsui   [{'height': 2080, 'html_attributions': ['<a hr...   \nThe Royal Garden                       [{'height': 600, 'html_attributions': ['<a hre...   \nYamm                                   [{'height': 800, 'html_attributions': ['<a hre...   \nBest Western Plus Hotel Kowloon        [{'height': 4096, 'html_attributions': ['<a hr...   \nNovotel Hong Kong Nathan Road Kowloon  [{'height': 1366, 'html_attributions': ['<a hr...   \nChelsea Hotel                          [{'height': 2273, 'html_attributions': ['<a hr...   \nOasis Avenue                           [{'height': 1920, 'html_attributions': ['<a hr...   \nHarbour Plaza Metropolis               [{'height': 1082, 'html_attributions': ['<a hr...   \nThe Café                               [{'height': 3024, 'html_attributions': ['<a hr...   \nPaisano's Pizzeria Tsim Sha Tsui       [{'height': 3024, 'html_attributions': ['<a hr...   \nLargos Hotel                           [{'height': 4096, 'html_attributions': ['<a hr...   \nButterfly on Prat 晋逸精品酒店 尖沙咀           [{'height': 4608, 'html_attributions': ['<a hr...   \nThe Luxe Manor                         [{'height': 563, 'html_attributions': ['<a hre...   \nKing Ludwig Beerhall                   [{'height': 2987, 'html_attributions': ['<a hr...   \nLobby Lounge at Kowloon Shangri-La     [{'height': 3024, 'html_attributions': ['<a hr...   \nCrystal Jade                           [{'height': 2160, 'html_attributions': ['<a hr...   \nRed Mr                                 [{'height': 4656, 'html_attributions': ['<a hr...   \nEmbassy Hotel Group                    [{'height': 3096, 'html_attributions': ['<a hr...   \n\n                                                          place_id  \\\nname                                                                 \nHotel Madera Hong Kong                 ChIJjWrOO-oABDQR9cpG2ObPgYM   \nMarco Polo Hongkong Hotel              ChIJU1U-3_IABDQREOE9-jvc4HQ   \nEmpire Hotel Kowloon - Tsim Sha Tsui   ChIJ1QWm6u4ABDQRs45fvfPKUPY   \nThe Royal Garden                       ChIJRROdu-8ABDQRvUy37dzrim8   \nYamm                                   ChIJ5zGete0ABDQRKp9h-YykR2w   \nBest Western Plus Hotel Kowloon        ChIJFyAN8O4ABDQROQzNPdO9zYk   \nNovotel Hong Kong Nathan Road Kowloon  ChIJK0XuQuoABDQRahqYK6zkVXI   \nChelsea Hotel                          ChIJwzssG-4ABDQRXdz-ViUavwM   \nOasis Avenue                           ChIJ60QCbO4ABDQRSmLMWrWg1J4   \nHarbour Plaza Metropolis               ChIJ4y7EguYABDQRJPVwf0iTPPg   \nThe Café                               ChIJhQzwQ_IABDQRcJB6XVMBkrE   \nPaisano's Pizzeria Tsim Sha Tsui       ChIJj9Moz-0ABDQRLu-ptiVn4e0   \nLargos Hotel                           ChIJxaQsMeoABDQR6lqlZCK9LNc   \nButterfly on Prat 晋逸精品酒店 尖沙咀           ChIJd0e-a-4ABDQRtn6XrVMs87E   \nThe Luxe Manor                         ChIJ1f4unO4ABDQRYYqlrxYROOU   \nKing Ludwig Beerhall                   ChIJLVvIjvEABDQRiPxP9FnFLZU   \nLobby Lounge at Kowloon Shangri-La     ChIJo3Gi4PIABDQRZNPl-DDBwXs   \nCrystal Jade                           ChIJc2nYp_IABDQRMj2cA4UfJOA   \nRed Mr                                 ChIJI9T2Ce4ABDQRc_dJhBdr29Q   \nEmbassy Hotel Group                    ChIJ60Zmt-sABDQR3mn5CKPh2CU   \n\n                                                                               plus_code  \\\nname                                                                                       \nHotel Madera Hong Kong                 {'compound_code': '854C+HR Jordan, Hong Kong',...   \nMarco Polo Hongkong Hotel              {'compound_code': '75W9+3G Tsim Sha Tsui, Hong...   \nEmpire Hotel Kowloon - Tsim Sha Tsui   {'compound_code': '852G+93 Tsim Sha Tsui, Hong...   \nThe Royal Garden                       {'compound_code': '75XH+93 Tsim Sha Tsui East,...   \nYamm                                   {'compound_code': '852C+2X Tsim Sha Tsui, Hong...   \nBest Western Plus Hotel Kowloon        {'compound_code': '852G+38 Tsim Sha Tsui, Hong...   \nNovotel Hong Kong Nathan Road Kowloon  {'compound_code': '854C+WR Yau Ma Tei, Hong Ko...   \nChelsea Hotel                          {'compound_code': '75WF+XQ Tsim Sha Tsui, Hong...   \nOasis Avenue                           {'compound_code': '75XF+FV Tsim Sha Tsui, Hong...   \nHarbour Plaza Metropolis               {'compound_code': '852M+G7 Hung Hom, Hong Kong...   \nThe Café                               {'compound_code': '75WF+42 Hong Kong', 'global...   \nPaisano's Pizzeria Tsim Sha Tsui       {'compound_code': '75XF+R4 Tsim Sha Tsui, Hong...   \nLargos Hotel                           {'compound_code': '854C+GX Jordan, Hong Kong',...   \nButterfly on Prat 晋逸精品酒店 尖沙咀           {'compound_code': '75XF+9X Tsim Sha Tsui, Hong...   \nThe Luxe Manor                         {'compound_code': '852F+8H Tsim Sha Tsui, Hong...   \nKing Ludwig Beerhall                   {'compound_code': '75WF+4H Tsim Sha Tsui, Hong...   \nLobby Lounge at Kowloon Shangri-La     {'compound_code': '75WG+RQ Tsim Sha Tsui East,...   \nCrystal Jade                           {'compound_code': '75W9+P7 Tsim Sha Tsui, Hong...   \nRed Mr                                 {'compound_code': '75XF+6F Tsim Sha Tsui, Hong...   \nEmbassy Hotel Group                    {'compound_code': '854C+3Q Mong Kok, Hong Kong...   \n\n                                       rating                    reference  \\\nname                                                                         \nHotel Madera Hong Kong                    4.1  ChIJjWrOO-oABDQR9cpG2ObPgYM   \nMarco Polo Hongkong Hotel                 4.3  ChIJU1U-3_IABDQREOE9-jvc4HQ   \nEmpire Hotel Kowloon - Tsim Sha Tsui      3.7  ChIJ1QWm6u4ABDQRs45fvfPKUPY   \nThe Royal Garden                          4.2  ChIJRROdu-8ABDQRvUy37dzrim8   \nYamm                                      3.9  ChIJ5zGete0ABDQRKp9h-YykR2w   \nBest Western Plus Hotel Kowloon           3.2  ChIJFyAN8O4ABDQROQzNPdO9zYk   \nNovotel Hong Kong Nathan Road Kowloon     4.0  ChIJK0XuQuoABDQRahqYK6zkVXI   \nChelsea Hotel                             2.7  ChIJwzssG-4ABDQRXdz-ViUavwM   \nOasis Avenue                              3.5  ChIJ60QCbO4ABDQRSmLMWrWg1J4   \nHarbour Plaza Metropolis                  4.0  ChIJ4y7EguYABDQRJPVwf0iTPPg   \nThe Café                                  4.2  ChIJhQzwQ_IABDQRcJB6XVMBkrE   \nPaisano's Pizzeria Tsim Sha Tsui          4.2  ChIJj9Moz-0ABDQRLu-ptiVn4e0   \nLargos Hotel                              3.7  ChIJxaQsMeoABDQR6lqlZCK9LNc   \nButterfly on Prat 晋逸精品酒店 尖沙咀              4.2  ChIJd0e-a-4ABDQRtn6XrVMs87E   \nThe Luxe Manor                            4.3  ChIJ1f4unO4ABDQRYYqlrxYROOU   \nKing Ludwig Beerhall                      3.9  ChIJLVvIjvEABDQRiPxP9FnFLZU   \nLobby Lounge at Kowloon Shangri-La        4.2  ChIJo3Gi4PIABDQRZNPl-DDBwXs   \nCrystal Jade                              3.6  ChIJc2nYp_IABDQRMj2cA4UfJOA   \nRed Mr                                    3.6  ChIJI9T2Ce4ABDQRc_dJhBdr29Q   \nEmbassy Hotel Group                       3.3  ChIJ60Zmt-sABDQR3mn5CKPh2CU   \n\n                                        scope  \\\nname                                            \nHotel Madera Hong Kong                 GOOGLE   \nMarco Polo Hongkong Hotel              GOOGLE   \nEmpire Hotel Kowloon - Tsim Sha Tsui   GOOGLE   \nThe Royal Garden                       GOOGLE   \nYamm                                   GOOGLE   \nBest Western Plus Hotel Kowloon        GOOGLE   \nNovotel Hong Kong Nathan Road Kowloon  GOOGLE   \nChelsea Hotel                          GOOGLE   \nOasis Avenue                           GOOGLE   \nHarbour Plaza Metropolis               GOOGLE   \nThe Café                               GOOGLE   \nPaisano's Pizzeria Tsim Sha Tsui       GOOGLE   \nLargos Hotel                           GOOGLE   \nButterfly on Prat 晋逸精品酒店 尖沙咀           GOOGLE   \nThe Luxe Manor                         GOOGLE   \nKing Ludwig Beerhall                   GOOGLE   \nLobby Lounge at Kowloon Shangri-La     GOOGLE   \nCrystal Jade                           GOOGLE   \nRed Mr                                 GOOGLE   \nEmbassy Hotel Group                    GOOGLE   \n\n                                                                                   types  \\\nname                                                                                       \nHotel Madera Hong Kong                       [lodging, point_of_interest, establishment]   \nMarco Polo Hongkong Hotel                    [lodging, point_of_interest, establishment]   \nEmpire Hotel Kowloon - Tsim Sha Tsui         [lodging, point_of_interest, establishment]   \nThe Royal Garden                             [lodging, point_of_interest, establishment]   \nYamm                                   [restaurant, food, point_of_interest, establis...   \nBest Western Plus Hotel Kowloon              [lodging, point_of_interest, establishment]   \nNovotel Hong Kong Nathan Road Kowloon        [lodging, point_of_interest, establishment]   \nChelsea Hotel                                [lodging, point_of_interest, establishment]   \nOasis Avenue                                 [lodging, point_of_interest, establishment]   \nHarbour Plaza Metropolis                     [lodging, point_of_interest, establishment]   \nThe Café                               [cafe, lodging, restaurant, food, point_of_int...   \nPaisano's Pizzeria Tsim Sha Tsui       [restaurant, food, point_of_interest, establis...   \nLargos Hotel                                 [lodging, point_of_interest, establishment]   \nButterfly on Prat 晋逸精品酒店 尖沙咀                 [lodging, point_of_interest, establishment]   \nThe Luxe Manor                         [night_club, lodging, bar, restaurant, food, p...   \nKing Ludwig Beerhall                   [restaurant, food, point_of_interest, establis...   \nLobby Lounge at Kowloon Shangri-La     [restaurant, night_club, bar, food, point_of_i...   \nCrystal Jade                           [restaurant, food, point_of_interest, establis...   \nRed Mr                                 [night_club, bar, point_of_interest, establish...   \nEmbassy Hotel Group                          [lodging, point_of_interest, establishment]   \n\n                                       user_ratings_total  \\\nname                                                        \nHotel Madera Hong Kong                                417   \nMarco Polo Hongkong Hotel                            1873   \nEmpire Hotel Kowloon - Tsim Sha Tsui                  601   \nThe Royal Garden                                     2540   \nYamm                                                  555   \nBest Western Plus Hotel Kowloon                       773   \nNovotel Hong Kong Nathan Road Kowloon                2540   \nChelsea Hotel                                          30   \nOasis Avenue                                          517   \nHarbour Plaza Metropolis                             2303   \nThe Café                                              344   \nPaisano's Pizzeria Tsim Sha Tsui                      995   \nLargos Hotel                                           91   \nButterfly on Prat 晋逸精品酒店 尖沙咀                          842   \nThe Luxe Manor                                        554   \nKing Ludwig Beerhall                                  605   \nLobby Lounge at Kowloon Shangri-La                     41   \nCrystal Jade                                          879   \nRed Mr                                                360   \nEmbassy Hotel Group                                     3   \n\n                                                                                vicinity  \\\nname                                                                                       \nHotel Madera Hong Kong                                       1 Cheong Lok Street, Jordan   \nMarco Polo Hongkong Hotel                                   3 Canton Road, Tsim Sha Tsui   \nEmpire Hotel Kowloon - Tsim Sha Tsui                    62 Kimberley Road, Tsim Sha Tsui   \nThe Royal Garden                                        69 Mody Road, Tsim Sha Tsui East   \nYamm                                   The Mira Hong Kong, Mira Place, G/F, 118-130 N...   \nBest Western Plus Hotel Kowloon                  73-75 Chatham Road South, Tsim Sha Tsui   \nNovotel Hong Kong Nathan Road Kowloon                        348 Nathan Road, Yau Ma Tei   \nChelsea Hotel                                               8A Hanoi Road, Tsim Sha Tsui   \nOasis Avenue                                               18 Prat Avenue, Tsim Sha Tsui   \nHarbour Plaza Metropolis                                    7 Metropolis Drive, Hung Hom   \nThe Café                               HK Kowloon Level 2, Sheraton Hong Kong Hotel &...   \nPaisano's Pizzeria Tsim Sha Tsui                         8 Granville Road, Tsim Sha Tsui   \nLargos Hotel                                                   30 Nanking Street, Jordan   \nButterfly on Prat 晋逸精品酒店 尖沙咀                               21 Prat Avenue, Tsim Sha Tsui   \nThe Luxe Manor                                          39 Kimberley Road, Tsim Sha Tsui   \nKing Ludwig Beerhall                   Shop No. G/F MTR East Tsim Sha Tsui Station 32...   \nLobby Lounge at Kowloon Shangri-La                      64 Mody Road, Tsim Sha Tsui East   \nCrystal Jade                                         3328, 17 Canton Road, Tsim Sha Tsui   \nRed Mr                                                            1-2樓, 25-31號 加拿分道, 尖沙咀   \nEmbassy Hotel Group                                        240-252 Nathan Road, Mong Kok   \n\n                                            opening_hours  price_level  \nname                                                                    \nHotel Madera Hong Kong                                NaN          NaN  \nMarco Polo Hongkong Hotel                             NaN          NaN  \nEmpire Hotel Kowloon - Tsim Sha Tsui   {'open_now': True}          NaN  \nThe Royal Garden                                      NaN          NaN  \nYamm                                   {'open_now': True}          3.0  \nBest Western Plus Hotel Kowloon                       NaN          NaN  \nNovotel Hong Kong Nathan Road Kowloon  {'open_now': True}          NaN  \nChelsea Hotel                                         NaN          NaN  \nOasis Avenue                                          NaN          NaN  \nHarbour Plaza Metropolis                              NaN          NaN  \nThe Café                               {'open_now': True}          3.0  \nPaisano's Pizzeria Tsim Sha Tsui       {'open_now': True}          2.0  \nLargos Hotel                                          NaN          NaN  \nButterfly on Prat 晋逸精品酒店 尖沙咀           {'open_now': True}          NaN  \nThe Luxe Manor                         {'open_now': True}          NaN  \nKing Ludwig Beerhall                   {'open_now': True}          3.0  \nLobby Lounge at Kowloon Shangri-La     {'open_now': True}          NaN  \nCrystal Jade                           {'open_now': True}          2.0  \nRed Mr                                 {'open_now': True}          2.0  \nEmbassy Hotel Group                                   NaN          NaN  ",
      "text/html": "<div>\n<style scoped>\n    .dataframe tbody tr th:only-of-type {\n        vertical-align: middle;\n    }\n\n    .dataframe tbody tr th {\n        vertical-align: top;\n    }\n\n    .dataframe thead th {\n        text-align: right;\n    }\n</style>\n<table border=\"1\" class=\"dataframe\">\n  <thead>\n    <tr style=\"text-align: right;\">\n      <th></th>\n      <th>business_status</th>\n      <th>geometry</th>\n      <th>icon</th>\n      <th>id</th>\n      <th>photos</th>\n      <th>place_id</th>\n      <th>plus_code</th>\n      <th>rating</th>\n      <th>reference</th>\n      <th>scope</th>\n      <th>types</th>\n      <th>user_ratings_total</th>\n      <th>vicinity</th>\n      <th>opening_hours</th>\n      <th>price_level</th>\n    </tr>\n    <tr>\n      <th>name</th>\n      <th></th>\n      <th></th>\n      <th></th>\n      <th></th>\n      <th></th>\n      <th></th>\n      <th></th>\n      <th></th>\n      <th></th>\n      <th></th>\n      <th></th>\n      <th></th>\n      <th></th>\n      <th></th>\n      <th></th>\n    </tr>\n  </thead>\n  <tbody>\n    <tr>\n      <td>Hotel Madera Hong Kong</td>\n      <td>OPERATIONAL</td>\n      <td>{'location': {'lat': 22.3064456, 'lng': 114.17...</td>\n      <td>https://maps.gstatic.com/mapfiles/place_api/ic...</td>\n      <td>21e78d794904feebc0098e9af9db04a3527f30e7</td>\n      <td>[{'height': 4032, 'html_attributions': ['&lt;a hr...</td>\n      <td>ChIJjWrOO-oABDQR9cpG2ObPgYM</td>\n      <td>{'compound_code': '854C+HR Jordan, Hong Kong',...</td>\n      <td>4.1</td>\n      <td>ChIJjWrOO-oABDQR9cpG2ObPgYM</td>\n      <td>GOOGLE</td>\n      <td>[lodging, point_of_interest, establishment]</td>\n      <td>417</td>\n      <td>1 Cheong Lok Street, Jordan</td>\n      <td>NaN</td>\n      <td>NaN</td>\n    </tr>\n    <tr>\n      <td>Marco Polo Hongkong Hotel</td>\n      <td>OPERATIONAL</td>\n      <td>{'location': {'lat': 22.29516479999999, 'lng':...</td>\n      <td>https://maps.gstatic.com/mapfiles/place_api/ic...</td>\n      <td>f708b04f12d679ec1b42faab770ea7802ccfc2c8</td>\n      <td>[{'height': 1575, 'html_attributions': ['&lt;a hr...</td>\n      <td>ChIJU1U-3_IABDQREOE9-jvc4HQ</td>\n      <td>{'compound_code': '75W9+3G Tsim Sha Tsui, Hong...</td>\n      <td>4.3</td>\n      <td>ChIJU1U-3_IABDQREOE9-jvc4HQ</td>\n      <td>GOOGLE</td>\n      <td>[lodging, point_of_interest, establishment]</td>\n      <td>1873</td>\n      <td>3 Canton Road, Tsim Sha Tsui</td>\n      <td>NaN</td>\n      <td>NaN</td>\n    </tr>\n    <tr>\n      <td>Empire Hotel Kowloon - Tsim Sha Tsui</td>\n      <td>OPERATIONAL</td>\n      <td>{'location': {'lat': 22.3009875, 'lng': 114.17...</td>\n      <td>https://maps.gstatic.com/mapfiles/place_api/ic...</td>\n      <td>61de83059496cd07c0bb8405d476b2656f5277cf</td>\n      <td>[{'height': 2080, 'html_attributions': ['&lt;a hr...</td>\n      <td>ChIJ1QWm6u4ABDQRs45fvfPKUPY</td>\n      <td>{'compound_code': '852G+93 Tsim Sha Tsui, Hong...</td>\n      <td>3.7</td>\n      <td>ChIJ1QWm6u4ABDQRs45fvfPKUPY</td>\n      <td>GOOGLE</td>\n      <td>[lodging, point_of_interest, establishment]</td>\n      <td>601</td>\n      <td>62 Kimberley Road, Tsim Sha Tsui</td>\n      <td>{'open_now': True}</td>\n      <td>NaN</td>\n    </tr>\n    <tr>\n      <td>The Royal Garden</td>\n      <td>OPERATIONAL</td>\n      <td>{'location': {'lat': 22.2984755, 'lng': 114.17...</td>\n      <td>https://maps.gstatic.com/mapfiles/place_api/ic...</td>\n      <td>e54cc348307422b0531accc88f25e918fdcf6e42</td>\n      <td>[{'height': 600, 'html_attributions': ['&lt;a hre...</td>\n      <td>ChIJRROdu-8ABDQRvUy37dzrim8</td>\n      <td>{'compound_code': '75XH+93 Tsim Sha Tsui East,...</td>\n      <td>4.2</td>\n      <td>ChIJRROdu-8ABDQRvUy37dzrim8</td>\n      <td>GOOGLE</td>\n      <td>[lodging, point_of_interest, establishment]</td>\n      <td>2540</td>\n      <td>69 Mody Road, Tsim Sha Tsui East</td>\n      <td>NaN</td>\n      <td>NaN</td>\n    </tr>\n    <tr>\n      <td>Yamm</td>\n      <td>OPERATIONAL</td>\n      <td>{'location': {'lat': 22.3000763, 'lng': 114.17...</td>\n      <td>https://maps.gstatic.com/mapfiles/place_api/ic...</td>\n      <td>b38cdcf0726cf26dce8e2e58bafceec1e8cfb9e7</td>\n      <td>[{'height': 800, 'html_attributions': ['&lt;a hre...</td>\n      <td>ChIJ5zGete0ABDQRKp9h-YykR2w</td>\n      <td>{'compound_code': '852C+2X Tsim Sha Tsui, Hong...</td>\n      <td>3.9</td>\n      <td>ChIJ5zGete0ABDQRKp9h-YykR2w</td>\n      <td>GOOGLE</td>\n      <td>[restaurant, food, point_of_interest, establis...</td>\n      <td>555</td>\n      <td>The Mira Hong Kong, Mira Place, G/F, 118-130 N...</td>\n      <td>{'open_now': True}</td>\n      <td>3.0</td>\n    </tr>\n    <tr>\n      <td>Best Western Plus Hotel Kowloon</td>\n      <td>OPERATIONAL</td>\n      <td>{'location': {'lat': 22.300236, 'lng': 114.175...</td>\n      <td>https://maps.gstatic.com/mapfiles/place_api/ic...</td>\n      <td>45f6ed0edb72ab72470fc46974f70b24189824bd</td>\n      <td>[{'height': 4096, 'html_attributions': ['&lt;a hr...</td>\n      <td>ChIJFyAN8O4ABDQROQzNPdO9zYk</td>\n      <td>{'compound_code': '852G+38 Tsim Sha Tsui, Hong...</td>\n      <td>3.2</td>\n      <td>ChIJFyAN8O4ABDQROQzNPdO9zYk</td>\n      <td>GOOGLE</td>\n      <td>[lodging, point_of_interest, establishment]</td>\n      <td>773</td>\n      <td>73-75 Chatham Road South, Tsim Sha Tsui</td>\n      <td>NaN</td>\n      <td>NaN</td>\n    </tr>\n    <tr>\n      <td>Novotel Hong Kong Nathan Road Kowloon</td>\n      <td>OPERATIONAL</td>\n      <td>{'location': {'lat': 22.3073031, 'lng': 114.17...</td>\n      <td>https://maps.gstatic.com/mapfiles/place_api/ic...</td>\n      <td>59726d851e0738cd0bfc27434f566afc1a1473fb</td>\n      <td>[{'height': 1366, 'html_attributions': ['&lt;a hr...</td>\n      <td>ChIJK0XuQuoABDQRahqYK6zkVXI</td>\n      <td>{'compound_code': '854C+WR Yau Ma Tei, Hong Ko...</td>\n      <td>4.0</td>\n      <td>ChIJK0XuQuoABDQRahqYK6zkVXI</td>\n      <td>GOOGLE</td>\n      <td>[lodging, point_of_interest, establishment]</td>\n      <td>2540</td>\n      <td>348 Nathan Road, Yau Ma Tei</td>\n      <td>{'open_now': True}</td>\n      <td>NaN</td>\n    </tr>\n    <tr>\n      <td>Chelsea Hotel</td>\n      <td>OPERATIONAL</td>\n      <td>{'location': {'lat': 22.2975, 'lng': 114.17448...</td>\n      <td>https://maps.gstatic.com/mapfiles/place_api/ic...</td>\n      <td>b8a5f409e8a7475e8d591b018ae96f29ecb1a4a0</td>\n      <td>[{'height': 2273, 'html_attributions': ['&lt;a hr...</td>\n      <td>ChIJwzssG-4ABDQRXdz-ViUavwM</td>\n      <td>{'compound_code': '75WF+XQ Tsim Sha Tsui, Hong...</td>\n      <td>2.7</td>\n      <td>ChIJwzssG-4ABDQRXdz-ViUavwM</td>\n      <td>GOOGLE</td>\n      <td>[lodging, point_of_interest, establishment]</td>\n      <td>30</td>\n      <td>8A Hanoi Road, Tsim Sha Tsui</td>\n      <td>NaN</td>\n      <td>NaN</td>\n    </tr>\n    <tr>\n      <td>Oasis Avenue</td>\n      <td>OPERATIONAL</td>\n      <td>{'location': {'lat': 22.2987495, 'lng': 114.17...</td>\n      <td>https://maps.gstatic.com/mapfiles/place_api/ic...</td>\n      <td>d0b2a0f47a0ccd7fbf17f10c2188a1bbc861915b</td>\n      <td>[{'height': 1920, 'html_attributions': ['&lt;a hr...</td>\n      <td>ChIJ60QCbO4ABDQRSmLMWrWg1J4</td>\n      <td>{'compound_code': '75XF+FV Tsim Sha Tsui, Hong...</td>\n      <td>3.5</td>\n      <td>ChIJ60QCbO4ABDQRSmLMWrWg1J4</td>\n      <td>GOOGLE</td>\n      <td>[lodging, point_of_interest, establishment]</td>\n      <td>517</td>\n      <td>18 Prat Avenue, Tsim Sha Tsui</td>\n      <td>NaN</td>\n      <td>NaN</td>\n    </tr>\n    <tr>\n      <td>Harbour Plaza Metropolis</td>\n      <td>OPERATIONAL</td>\n      <td>{'location': {'lat': 22.3013425, 'lng': 114.18...</td>\n      <td>https://maps.gstatic.com/mapfiles/place_api/ic...</td>\n      <td>f33791412d8bfca05ed9efed6747881d1a7f7f79</td>\n      <td>[{'height': 1082, 'html_attributions': ['&lt;a hr...</td>\n      <td>ChIJ4y7EguYABDQRJPVwf0iTPPg</td>\n      <td>{'compound_code': '852M+G7 Hung Hom, Hong Kong...</td>\n      <td>4.0</td>\n      <td>ChIJ4y7EguYABDQRJPVwf0iTPPg</td>\n      <td>GOOGLE</td>\n      <td>[lodging, point_of_interest, establishment]</td>\n      <td>2303</td>\n      <td>7 Metropolis Drive, Hung Hom</td>\n      <td>NaN</td>\n      <td>NaN</td>\n    </tr>\n    <tr>\n      <td>The Café</td>\n      <td>OPERATIONAL</td>\n      <td>{'location': {'lat': 22.2952629, 'lng': 114.17...</td>\n      <td>https://maps.gstatic.com/mapfiles/place_api/ic...</td>\n      <td>ca61b5a170812b2b47ba607ed054cfcd7b3323f3</td>\n      <td>[{'height': 3024, 'html_attributions': ['&lt;a hr...</td>\n      <td>ChIJhQzwQ_IABDQRcJB6XVMBkrE</td>\n      <td>{'compound_code': '75WF+42 Hong Kong', 'global...</td>\n      <td>4.2</td>\n      <td>ChIJhQzwQ_IABDQRcJB6XVMBkrE</td>\n      <td>GOOGLE</td>\n      <td>[cafe, lodging, restaurant, food, point_of_int...</td>\n      <td>344</td>\n      <td>HK Kowloon Level 2, Sheraton Hong Kong Hotel &amp;...</td>\n      <td>{'open_now': True}</td>\n      <td>3.0</td>\n    </tr>\n    <tr>\n      <td>Paisano's Pizzeria Tsim Sha Tsui</td>\n      <td>OPERATIONAL</td>\n      <td>{'location': {'lat': 22.2996134, 'lng': 114.17...</td>\n      <td>https://maps.gstatic.com/mapfiles/place_api/ic...</td>\n      <td>fdc870f0ac6e05071e6c388f518fe9ea79141719</td>\n      <td>[{'height': 3024, 'html_attributions': ['&lt;a hr...</td>\n      <td>ChIJj9Moz-0ABDQRLu-ptiVn4e0</td>\n      <td>{'compound_code': '75XF+R4 Tsim Sha Tsui, Hong...</td>\n      <td>4.2</td>\n      <td>ChIJj9Moz-0ABDQRLu-ptiVn4e0</td>\n      <td>GOOGLE</td>\n      <td>[restaurant, food, point_of_interest, establis...</td>\n      <td>995</td>\n      <td>8 Granville Road, Tsim Sha Tsui</td>\n      <td>{'open_now': True}</td>\n      <td>2.0</td>\n    </tr>\n    <tr>\n      <td>Largos Hotel</td>\n      <td>OPERATIONAL</td>\n      <td>{'location': {'lat': 22.306311, 'lng': 114.172...</td>\n      <td>https://maps.gstatic.com/mapfiles/place_api/ic...</td>\n      <td>0dd4c2f255c8e7aaf9e44994bf010da78d6fe89c</td>\n      <td>[{'height': 4096, 'html_attributions': ['&lt;a hr...</td>\n      <td>ChIJxaQsMeoABDQR6lqlZCK9LNc</td>\n      <td>{'compound_code': '854C+GX Jordan, Hong Kong',...</td>\n      <td>3.7</td>\n      <td>ChIJxaQsMeoABDQR6lqlZCK9LNc</td>\n      <td>GOOGLE</td>\n      <td>[lodging, point_of_interest, establishment]</td>\n      <td>91</td>\n      <td>30 Nanking Street, Jordan</td>\n      <td>NaN</td>\n      <td>NaN</td>\n    </tr>\n    <tr>\n      <td>Butterfly on Prat 晋逸精品酒店 尖沙咀</td>\n      <td>OPERATIONAL</td>\n      <td>{'location': {'lat': 22.2984542, 'lng': 114.17...</td>\n      <td>https://maps.gstatic.com/mapfiles/place_api/ic...</td>\n      <td>ec7b40852698e7df4aa13273bc0ed92a7308bf80</td>\n      <td>[{'height': 4608, 'html_attributions': ['&lt;a hr...</td>\n      <td>ChIJd0e-a-4ABDQRtn6XrVMs87E</td>\n      <td>{'compound_code': '75XF+9X Tsim Sha Tsui, Hong...</td>\n      <td>4.2</td>\n      <td>ChIJd0e-a-4ABDQRtn6XrVMs87E</td>\n      <td>GOOGLE</td>\n      <td>[lodging, point_of_interest, establishment]</td>\n      <td>842</td>\n      <td>21 Prat Avenue, Tsim Sha Tsui</td>\n      <td>{'open_now': True}</td>\n      <td>NaN</td>\n    </tr>\n    <tr>\n      <td>The Luxe Manor</td>\n      <td>OPERATIONAL</td>\n      <td>{'location': {'lat': 22.3008333, 'lng': 114.17...</td>\n      <td>https://maps.gstatic.com/mapfiles/place_api/ic...</td>\n      <td>73b8eb9c24a01bcbbf292c23b03e69f17995667e</td>\n      <td>[{'height': 563, 'html_attributions': ['&lt;a hre...</td>\n      <td>ChIJ1f4unO4ABDQRYYqlrxYROOU</td>\n      <td>{'compound_code': '852F+8H Tsim Sha Tsui, Hong...</td>\n      <td>4.3</td>\n      <td>ChIJ1f4unO4ABDQRYYqlrxYROOU</td>\n      <td>GOOGLE</td>\n      <td>[night_club, lodging, bar, restaurant, food, p...</td>\n      <td>554</td>\n      <td>39 Kimberley Road, Tsim Sha Tsui</td>\n      <td>{'open_now': True}</td>\n      <td>NaN</td>\n    </tr>\n    <tr>\n      <td>King Ludwig Beerhall</td>\n      <td>OPERATIONAL</td>\n      <td>{'location': {'lat': 22.2952576, 'lng': 114.17...</td>\n      <td>https://maps.gstatic.com/mapfiles/place_api/ic...</td>\n      <td>dda8e3bc65d8224498253bb13b9f6dbba325d836</td>\n      <td>[{'height': 2987, 'html_attributions': ['&lt;a hr...</td>\n      <td>ChIJLVvIjvEABDQRiPxP9FnFLZU</td>\n      <td>{'compound_code': '75WF+4H Tsim Sha Tsui, Hong...</td>\n      <td>3.9</td>\n      <td>ChIJLVvIjvEABDQRiPxP9FnFLZU</td>\n      <td>GOOGLE</td>\n      <td>[restaurant, food, point_of_interest, establis...</td>\n      <td>605</td>\n      <td>Shop No. G/F MTR East Tsim Sha Tsui Station 32...</td>\n      <td>{'open_now': True}</td>\n      <td>3.0</td>\n    </tr>\n    <tr>\n      <td>Lobby Lounge at Kowloon Shangri-La</td>\n      <td>OPERATIONAL</td>\n      <td>{'location': {'lat': 22.2971066, 'lng': 114.17...</td>\n      <td>https://maps.gstatic.com/mapfiles/place_api/ic...</td>\n      <td>a029266cf9fdf2c34ace5ba3adc3e69ced385797</td>\n      <td>[{'height': 3024, 'html_attributions': ['&lt;a hr...</td>\n      <td>ChIJo3Gi4PIABDQRZNPl-DDBwXs</td>\n      <td>{'compound_code': '75WG+RQ Tsim Sha Tsui East,...</td>\n      <td>4.2</td>\n      <td>ChIJo3Gi4PIABDQRZNPl-DDBwXs</td>\n      <td>GOOGLE</td>\n      <td>[restaurant, night_club, bar, food, point_of_i...</td>\n      <td>41</td>\n      <td>64 Mody Road, Tsim Sha Tsui East</td>\n      <td>{'open_now': True}</td>\n      <td>NaN</td>\n    </tr>\n    <tr>\n      <td>Crystal Jade</td>\n      <td>OPERATIONAL</td>\n      <td>{'location': {'lat': 22.29677, 'lng': 114.1681...</td>\n      <td>https://maps.gstatic.com/mapfiles/place_api/ic...</td>\n      <td>3c5b7ae5126b4bc0838dcc699475f12047f42e86</td>\n      <td>[{'height': 2160, 'html_attributions': ['&lt;a hr...</td>\n      <td>ChIJc2nYp_IABDQRMj2cA4UfJOA</td>\n      <td>{'compound_code': '75W9+P7 Tsim Sha Tsui, Hong...</td>\n      <td>3.6</td>\n      <td>ChIJc2nYp_IABDQRMj2cA4UfJOA</td>\n      <td>GOOGLE</td>\n      <td>[restaurant, food, point_of_interest, establis...</td>\n      <td>879</td>\n      <td>3328, 17 Canton Road, Tsim Sha Tsui</td>\n      <td>{'open_now': True}</td>\n      <td>2.0</td>\n    </tr>\n    <tr>\n      <td>Red Mr</td>\n      <td>OPERATIONAL</td>\n      <td>{'location': {'lat': 22.2981206, 'lng': 114.17...</td>\n      <td>https://maps.gstatic.com/mapfiles/place_api/ic...</td>\n      <td>6081fd735528433131517873b15adfbca46e5898</td>\n      <td>[{'height': 4656, 'html_attributions': ['&lt;a hr...</td>\n      <td>ChIJI9T2Ce4ABDQRc_dJhBdr29Q</td>\n      <td>{'compound_code': '75XF+6F Tsim Sha Tsui, Hong...</td>\n      <td>3.6</td>\n      <td>ChIJI9T2Ce4ABDQRc_dJhBdr29Q</td>\n      <td>GOOGLE</td>\n      <td>[night_club, bar, point_of_interest, establish...</td>\n      <td>360</td>\n      <td>1-2樓, 25-31號 加拿分道, 尖沙咀</td>\n      <td>{'open_now': True}</td>\n      <td>2.0</td>\n    </tr>\n    <tr>\n      <td>Embassy Hotel Group</td>\n      <td>OPERATIONAL</td>\n      <td>{'location': {'lat': 22.3051596, 'lng': 114.17...</td>\n      <td>https://maps.gstatic.com/mapfiles/place_api/ic...</td>\n      <td>46141485494d00ef1ab4e0a467f5d8cc6658efeb</td>\n      <td>[{'height': 3096, 'html_attributions': ['&lt;a hr...</td>\n      <td>ChIJ60Zmt-sABDQR3mn5CKPh2CU</td>\n      <td>{'compound_code': '854C+3Q Mong Kok, Hong Kong...</td>\n      <td>3.3</td>\n      <td>ChIJ60Zmt-sABDQR3mn5CKPh2CU</td>\n      <td>GOOGLE</td>\n      <td>[lodging, point_of_interest, establishment]</td>\n      <td>3</td>\n      <td>240-252 Nathan Road, Mong Kok</td>\n      <td>NaN</td>\n      <td>NaN</td>\n    </tr>\n  </tbody>\n</table>\n</div>"
     },
     "metadata": {},
     "execution_count": 140
    }
   ],
   "source": [
    "tst_result.drop(columns=['icon','id','photos','place_id','plus_code','reference','scope'])\n",
    "tst_result.set_index('name')"
   ]
  },
  {
   "cell_type": "markdown",
   "metadata": {},
   "source": [
    "## Below is to find the latitude and longitude of a district"
   ]
  },
  {
   "cell_type": "code",
   "execution_count": 131,
   "metadata": {},
   "outputs": [
    {
     "output_type": "execute_result",
     "data": {
      "text/plain": "{'lat': 22.2730219, 'lng': 114.1498806}"
     },
     "metadata": {},
     "execution_count": 131
    }
   ],
   "source": [
    "cw_geocode = gmaps.geocode(address='Central and Western, Hong Kong')\n",
    "cw_geocode[0]['geometry']['location']"
   ]
  },
  {
   "cell_type": "code",
   "execution_count": 120,
   "metadata": {
    "tags": []
   },
   "outputs": [],
   "source": [
    "from bs4 import BeautifulSoup\n",
    "wiki = requests.get('https://en.wikipedia.org/wiki/Districts_of_Hong_Kong')\n",
    "\n",
    "soup = BeautifulSoup(wiki.text,'lxml')\n",
    "table = soup.find_all('table',class_='sortable')\n",
    "table_td = table[0].find_all('a')\n",
    "table_title = table_td[3:]\n",
    "dis = []\n",
    "for t in table_title:\n",
    "    dis.append(t.string)"
   ]
  },
  {
   "cell_type": "code",
   "execution_count": 124,
   "metadata": {},
   "outputs": [
    {
     "output_type": "execute_result",
     "data": {
      "text/plain": "['Central and Western',\n 'Eastern',\n 'Southern',\n 'Wan Chai',\n 'Sham Shui Po',\n 'Kowloon City',\n 'Kwun Tong',\n 'Wong Tai Sin',\n 'Yau Tsim Mong',\n 'Islands',\n 'Kwai Tsing',\n 'North',\n 'Sai Kung',\n 'Sha Tin',\n 'Tai Po',\n 'Tsuen Wan',\n 'Tuen Mun',\n 'Yuen Long']"
     },
     "metadata": {},
     "execution_count": 124
    }
   ],
   "source": [
    "districts_name = dis[0::2]\n",
    "districts_name"
   ]
  },
  {
   "cell_type": "code",
   "execution_count": 134,
   "metadata": {},
   "outputs": [],
   "source": [
    "cw_geocode = gmaps.geocode(address='Central and Western, Hong Kong')\n",
    "cw_geocode[0]['geometry']['location']\n",
    "districts_dict = {}\n",
    "\n",
    "for d in districts_name:\n",
    "    geocode = gmaps.geocode(address='{}, Hong Kong'.format(d))\n",
    "    districts_dict.update({d:geocode[0]['geometry']['location']})"
   ]
  },
  {
   "cell_type": "code",
   "execution_count": 135,
   "metadata": {},
   "outputs": [
    {
     "output_type": "execute_result",
     "data": {
      "text/plain": "{'Central and Western': {'lat': 22.2730219, 'lng': 114.1498806},\n 'Eastern': {'lat': 22.2733889, 'lng': 114.2360778},\n 'Southern': {'lat': 22.2432164, 'lng': 114.1974398},\n 'Wan Chai': {'lat': 22.276022, 'lng': 114.1751471},\n 'Sham Shui Po': {'lat': 22.3285899, 'lng': 114.1602846},\n 'Kowloon City': {'lat': 22.3232097, 'lng': 114.1855505},\n 'Kwun Tong': {'lat': 22.3103686, 'lng': 114.2227035},\n 'Wong Tai Sin': {'lat': 22.3429615, 'lng': 114.1929813},\n 'Yau Tsim Mong': {'lat': 22.3116028, 'lng': 114.1706884},\n 'Islands': {'lat': 22.2627924, 'lng': 113.9655419},\n 'Kwai Tsing': {'lat': 22.3549077, 'lng': 114.1260991},\n 'North': {'lat': 22.5009081, 'lng': 114.1558258},\n 'Sai Kung': {'lat': 22.383689, 'lng': 114.2707867},\n 'Sha Tin': {'lat': 22.3771304, 'lng': 114.1974398},\n 'Tai Po': {'lat': 22.4423282, 'lng': 114.165521},\n 'Tsuen Wan': {'lat': 22.3699122, 'lng': 114.1144306},\n 'Tuen Mun': {'lat': 22.3908295, 'lng': 113.9725126},\n 'Yuen Long': {'lat': 22.4445376, 'lng': 114.0222076}}"
     },
     "metadata": {},
     "execution_count": 135
    }
   ],
   "source": [
    "districts_dict"
   ]
  },
  {
   "cell_type": "code",
   "execution_count": null,
   "metadata": {},
   "outputs": [],
   "source": []
  }
 ],
 "metadata": {
  "language_info": {
   "codemirror_mode": {
    "name": "ipython",
    "version": 3
   },
   "file_extension": ".py",
   "mimetype": "text/x-python",
   "name": "python",
   "nbconvert_exporter": "python",
   "pygments_lexer": "ipython3",
   "version": "3.8.1-final"
  },
  "orig_nbformat": 2,
  "kernelspec": {
   "name": "python3",
   "display_name": "Python 3"
  }
 },
 "nbformat": 4,
 "nbformat_minor": 2
}
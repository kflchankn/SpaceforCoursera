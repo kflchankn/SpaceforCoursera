{
 "cells": [
  {
   "cell_type": "markdown",
   "metadata": {},
   "source": [
    "# Applied Data Science Capstone\n",
    "## Project Title: The Battle of Neighborhoods"
   ]
  },
  {
   "cell_type": "code",
   "execution_count": 4,
   "metadata": {},
   "outputs": [],
   "source": [
    "#import libraries\n",
    "import numpy as np\n",
    "import pandas as pd\n",
    "import json\n",
    "import requests\n",
    "from pandas.io.json import json_normalize\n",
    "import matplotlib.cm as cm\n",
    "import matplotlib.colors as colors\n",
    "from sklearn.cluster import KMeans\n",
    "import folium"
   ]
  },
  {
   "cell_type": "code",
   "execution_count": 2,
   "metadata": {},
   "outputs": [],
   "source": [
    "C_ID = 'NSNZ2FAIXDEOCGAZGQ2LBMBV3YMQL1X0J1KHFE1UA40R0SEB'\n",
    "C_SC = 'KFLH2TZRLVJXWMOLWVBDEGPBUFHS3OMGGH5BQRVV2PG5EECS'\n",
    "V = 20200509\n",
    "L = 100\n",
    "R = 500"
   ]
  },
  {
   "cell_type": "code",
   "execution_count": 3,
   "metadata": {},
   "outputs": [
    {
     "output_type": "execute_result",
     "data": {
      "text/plain": "'https://api.foursquare.com/v2/venues/explore?&client_id=NSNZ2FAIXDEOCGAZGQ2LBMBV3YMQL1X0J1KHFE1UA40R0SEB&client_secret=KFLH2TZRLVJXWMOLWVBDEGPBUFHS3OMGGH5BQRVV2PG5EECS&v=20200509&ll=22.302711,114.177216&radius=500&limit=100'"
     },
     "metadata": {},
     "execution_count": 3
    }
   ],
   "source": [
    "url = 'https://api.foursquare.com/v2/venues/explore?&client_id={}&client_secret={}&v={}&ll={},{}&radius={}&limit={}'.format(C_ID,C_SC,V,'22.302711','114.177216',R,L)\n",
    "url"
   ]
  },
  {
   "cell_type": "code",
   "execution_count": 11,
   "metadata": {},
   "outputs": [
    {
     "output_type": "execute_result",
     "data": {
      "text/plain": ": 114.17962696655532}],\n        'distance': 360,\n        'cc': 'HK',\n        'city': '香港',\n        'country': '香港',\n        'formattedAddress': ['2/F, Hotel ICON, 17 Science Museum Rd', '香港']},\n       'categories': [{'id': '52e81612bcbc57f1066b79f4',\n         'name': 'Buffet',\n         'pluralName': 'Buffets',\n         'shortName': 'Buffet',\n         'icon': {'prefix': 'https://ss3.4sqi.net/img/categories_v2/food/default_',\n          'suffix': '.png'},\n         'primary': True}],\n       'photos': {'count': 0, 'groups': []},\n       'venuePage': {'id': '60362304'}},\n      'referralId': 'e-0-4e93e5ce77c82b6a71c1341c-14'},\n     {'reasons': {'count': 0,\n       'items': [{'summary': 'This spot is popular',\n         'type': 'general',\n         'reasonName': 'globalInteractionReason'}]},\n      'venue': {'id': '4b0cdf33f964a520524223e3',\n       'name': 'Kowloon Cricket Club (九龍木球會)',\n       'location': {'address': \"10 Cox's Rd\",\n        'lat': 22.304594,\n        'lng': 114.174218,\n        'labeledLatLngs': [{'label': 'display',\n          'lat': 22.304594,\n          'lng': 114.174218}],\n        'distance': 373,\n        'cc': 'HK',\n        'city': '尖沙咀',\n        'state': 'Kowloon City',\n        'country': '香港',\n        'formattedAddress': [\"10 Cox's Rd\", 'Kowloon City', '香港']},\n       'categories': [{'id': '4bf58dd8d48988d18a941735',\n         'name': 'Cricket Ground',\n         'pluralName': 'Cricket Grounds',\n         'shortName': 'Cricket',\n         'icon': {'prefix': 'https://ss3.4sqi.net/img/categories_v2/arts_entertainment/stadium_cricket_',\n          'suffix': '.png'},\n         'primary': True}],\n       'photos': {'count': 0, 'groups': []}},\n      'referralId': 'e-0-4b0cdf33f964a520524223e3-15'},\n     {'reasons': {'count': 0,\n       'items': [{'summary': 'This spot is popular',\n         'type': 'general',\n         'reasonName': 'globalInteractionReason'}]},\n      'venue': {'id': '4ed0c0608231b9ef88f56bf3',\n       'name': 'Sabatini Ristorante Italiano',\n       'location': {'address': '3/F, The Royal Garden, 69 Mody Rd.',\n        'lat': 22.29863903666435,\n        'lng': 114.1775108262436,\n        'labeledLatLngs': [{'label': 'display',\n          'lat': 22.29863903666435,\n          'lng': 114.1775108262436}],\n        'distance': 454,\n        'cc': 'HK',\n        'city': '尖沙咀',\n        'state': 'Kowloon City',\n        'country': '香港',\n        'formattedAddress': ['3/F, The Royal Garden, 69 Mody Rd.',\n         'Kowloon City',\n         '香港']},\n       'categories': [{'id': '4bf58dd8d48988d110941735',\n         'name': 'Italian Restaurant',\n         'pluralName': 'Italian Restaurants',\n         'shortName': 'Italian',\n         'icon': {'prefix': 'https://ss3.4sqi.net/img/categories_v2/food/italian_',\n          'suffix': '.png'},\n         'primary': True}],\n       'photos': {'count': 0, 'groups': []}},\n      'referralId': 'e-0-4ed0c0608231b9ef88f56bf3-16'},\n     {'reasons': {'count': 0,\n       'items': [{'summary': 'This spot is popular',\n         'type': 'general',\n         'reasonName': 'globalInteractionReason'}]},\n      'venue': {'id': '4bf2711faf659c74d2f9d747',\n       'name': 'Nishiki (錦)',\n       'location': {'address': '1/F Regal Kowloon Hotel, 71 Mody Rd',\n        'lat': 22.298505699131997,\n        'lng': 114.1782001946303,\n        'labeledLatLngs': [{'label': 'display',\n          'lat': 22.298505699131997,\n          'lng': 114.1782001946303}],\n        'distance': 478,\n        'cc': 'HK',\n        'city': '尖沙咀',\n        'state': 'Kowloon City',\n        'country': '香港',\n        'formattedAddress': ['1/F Regal Kowloon Hotel, 71 Mody Rd',\n         'Kowloon City',\n         '香港']},\n       'categories': [{'id': '4bf58dd8d48988d111941735',\n         'name': 'Japanese Restaurant',\n         'pluralName': 'Japanese Restaurants',\n         'shortName': 'Japanese',\n         'icon': {'prefix': 'https://ss3.4sqi.net/img/categories_v2/food/japanese_',\n          'suffix': '.png'},\n         'primary': True}],\n       'photos': {'count': 0, 'groups': []}},\n      'referralId': 'e-0-4bf2711faf659c74d2f9d747-17'},\n     {'reasons': {'count': 0,\n       'items': [{'summary': 'This spot is popular',\n         'type': 'general',\n         'reasonName': 'globalInteractionReason'}]},\n      'venue': {'id': '5610b273498e4647a7cf9cca',\n       'name': '298 Nikuya Kitchen',\n       'location': {'address': '3/F, China Insurance Bldg, 48 Cameron Rd',\n        'lat': 22.299235076142157,\n        'lng': 114.17499774816973,\n        'labeledLatLngs': [{'label': 'display',\n          'lat': 22.299235076142157,\n          'lng': 114.17499774816973}],\n        'distance': 449,\n        'cc': 'HK',\n        'city': '尖沙咀',\n        'state': 'Kowloon City',\n        'country': '香港',\n        'formattedAddress': ['3/F, China Insurance Bldg, 48 Cameron Rd',\n         'Kowloon City',\n         '香港']},\n       'categories': [{'id': '4bf58dd8d48988d1df931735',\n         'name': 'BBQ Joint',\n         'pluralName': 'BBQ Joints',\n         'shortName': 'BBQ',\n         'icon': {'prefix': 'https://ss3.4sqi.net/img/categories_v2/food/bbqalt_',\n          'suffix': '.png'},\n         'primary': True}],\n       'photos': {'count': 0, 'groups': []}},\n      'referralId': 'e-0-5610b273498e4647a7cf9cca-18'},\n     {'reasons': {'count': 0,\n       'items': [{'summary': 'This spot is popular',\n         'type': 'general',\n         'reasonName': 'globalInteractionReason'}]},\n      'venue': {'id': '4c959f0f533aa0937629cb45',\n       'name': 'The Royal Garden Chinese Restaurant (帝苑軒)',\n       'location': {'address': 'B2/F, The Royal Garden, 69 Mody Rd',\n        'lat': 22.298415762029776,\n        'lng': 114.1777173613407,\n        'labeledLatLngs': [{'label': 'display',\n          'lat': 22.298415762029776,\n          'lng': 114.1777173613407}],\n        'distance': 480,\n        'cc': 'HK',\n        'city': '尖沙咀',\n        'state': 'Kowloon City',\n        'country': '香港',\n        'formattedAddress': ['B2/F, The Royal Garden, 69 Mody Rd',\n         'Kowloon City',\n         '香港']},\n       'categories': [{'id': '4bf58dd8d48988d145941735',\n         'name': 'Chinese Restaurant',\n         'pluralName': 'Chinese Restaurants',\n         'shortName': 'Chinese',\n         'icon': {'prefix': 'https://ss3.4sqi.net/img/categories_v2/food/asian_',\n          'suffix': '.png'},\n         'primary': True}],\n       'photos': {'count': 0, 'groups': []}},\n      'referralId': 'e-0-4c959f0f533aa0937629cb45-19'},\n     {'reasons': {'count': 0,\n       'items': [{'summary': 'This spot is popular',\n         'type': 'general',\n         'reasonName': 'globalInteractionReason'}]},\n      'venue': {'id': '4e75a49dd4c0934471fbf431',\n       'name': 'Green',\n       'location': {'address': '7/F, Hotel ICON, 17 Science Museum Rd',\n        'lat': 22.301039476320575,\n        'lng': 114.17985584035574,\n        'labeledLatLngs': [{'label': 'display',\n          'lat': 22.301039476320575,\n          'lng': 114.17985584035574}],\n        'distance': 329,\n        'cc': 'HK',\n        'city': '尖沙咀',\n        'state': 'Kowloon City',\n        'country': '香港',\n        'formattedAddress': ['7/F, Hotel ICON, 17 Science Museum Rd',\n         'Kowloon City',\n         '香港']},\n       'categories': [{'id': '4bf58dd8d48988d16d941735',\n         'name': 'Café',\n         'pluralName': 'Cafés',\n         'shortName': 'Café',\n         'icon': {'prefix': 'https://ss3.4sqi.net/img/categories_v2/food/cafe_',\n          'suffix': '.png'},\n         'primary': True}],\n       'photos': {'count': 0, 'groups': []},\n       'venuePage': {'id': '60362213'}},\n      'referralId': 'e-0-4e75a49dd4c0934471fbf431-20'},\n     {'reasons': {'count': 0,\n       'items': [{'summary': 'This spot is popular',\n         'type': 'general',\n         'reasonName': 'globalInteractionReason'}]},\n      'venue': {'id': '4c959edaf7cfa1cd009abf15',\n       'name': 'The Royal Garden (帝苑酒店)',\n       'location': {'address': '69 Mody Rd',\n        'lat': 22.29844199409177,\n        'lng': 114.17766336338589,\n        'labeledLatLngs': [{'label': 'display',\n          'lat': 22.29844199409177,\n          'lng': 114.17766336338589}],\n        'distance': 477,\n        'cc': 'HK',\n        'city': '尖沙咀',\n        'state': 'Kowloon City',\n        'country': '香港',\n        'formattedAddress': ['69 Mody Rd', 'Kowloon City', '香港']},\n       'categories': [{'id': '4bf58dd8d48988d1fa931735',\n         'name': 'Hotel',\n         'pluralName': 'Hotels',\n         'shortName': 'Hotel',\n         'icon': {'prefix': 'https://ss3.4sqi.net/img/categories_v2/travel/hotel_',\n          'suffix': '.png'},\n         'primary': True}],\n       'photos': {'count': 0, 'groups': []}},\n      'referralId': 'e-0-4c959edaf7cfa1cd009abf15-21'},\n     {'reasons': {'count': 0,\n       'items': [{'summary': 'This spot is popular',\n         'type': 'general',\n         'reasonName': 'globalInteractionReason'}]},\n      'venue': {'id': '4b0588ccf964a52074da22e3',\n       'name': 'New World Millennium Hong Kong Hotel (千禧新世界香港酒店)',\n       'location': {'address': '72 Mody Rd',\n        'lat': 22.299427,\n        'lng': 114.179761,\n        'labeledLatLngs': [{'label': 'display',\n          'lat': 22.299427,\n          'lng': 114.179761}],\n        'distance': 449,\n        'cc': 'HK',\n        'neighborhood': 'Tsim Sha Tsui, Hong Kong',\n        'city': 'Tsim Sha Tsui',\n        'state': '九龍',\n        'country': '香港',\n        'formattedAddress': ['72 Mody Rd', '九龍', '香港']},\n       'categories': [{'id': '4bf58dd8d48988d1fa931735',\n         'name': 'Hotel',\n         'pluralName': 'Hotels',\n         'shortName': 'Hotel',\n         'icon': {'prefix': 'https://ss3.4sqi.net/img/categories_v2/travel/hotel_',\n          'suffix': '.png'},\n         'primary': True}],\n       'photos': {'count': 0, 'groups': []}},\n      'referralId': 'e-0-4b0588ccf964a52074da22e3-22'},\n     {'reasons': {'count': 0,\n       'items': [{'summary': 'This spot is popular',\n         'type': 'general',\n         'reasonName': 'globalInteractionReason'}]},\n      'venue': {'id': '4bef892a96edc9b670e84af2',\n       'name': 'Sagano 嵯峨野 (嵯峨野)',\n       'location': {'address': '1/F, New World Millennium Hong Kong Hotel, 72 Mody Rd',\n        'lat': 22.299160784961312,\n        'lng': 114.17989886013316,\n        'labeledLatLngs': [{'label': 'display',\n          'lat': 22.299160784961312,\n          'lng': 114.17989886013316}],\n        'distance': 482,\n        'cc': 'HK',\n        'neighborhood': 'Tsim Sha Tsui, Hong Kong',\n        'city': '尖沙咀',\n        'state': 'Kowloon City',\n        'country': '香港',\n        'formattedAddress': ['1/F, New World Millennium Hong Kong Hotel, 72 Mody Rd',\n         'Kowloon City',\n         '香港']},\n       'categories': [{'id': '4bf58dd8d48988d111941735',\n         'name': 'Japanese Restaurant',\n         'pluralName': 'Japanese Restaurants',\n         'shortName': 'Japanese',\n         'icon': {'prefix': 'https://ss3.4sqi.net/img/categories_v2/food/japanese_',\n          'suffix': '.png'},\n         'primary': True}],\n       'photos': {'count': 0, 'groups': []}},\n      'referralId': 'e-0-4bef892a96edc9b670e84af2-23'},\n     {'reasons': {'count': 0,\n       'items': [{'summary': 'This spot is popular',\n         'type': 'general',\n         'reasonName': 'globalInteractionReason'}]},\n      'venue': {'id': '5a9fa52b69e77b0fdd2f0d6a',\n       'name': 'Starbucks (星巴克)',\n       'location': {'address': 'Sports Centre, The Hong Kong Polytechnic University Block X',\n        'lat': 22.305492,\n        'lng': 114.179985,\n        'labeledLatLngs': [{'label': 'display',\n          'lat': 22.305492,\n          'lng': 114.179985}],\n        'distance': 420,\n        'cc': 'HK',\n        'city': '九龍',\n        'state': 'Kowloon City',\n        'country': '香港',\n        'formattedAddress': ['Sports Centre, The Hong Kong Polytechnic University Block X',\n         'Kowloon City',\n         '香港']},\n       'categories': [{'id': '4bf58dd8d48988d1e0931735',\n         'name': 'Coffee Shop',\n         'pluralName': 'Coffee Shops',\n         'shortName': 'Coffee Shop',\n         'icon': {'prefix': 'https://ss3.4sqi.net/img/categories_v2/food/coffeeshop_',\n          'suffix': '.png'},\n         'primary': True}],\n       'photos': {'count': 0, 'groups': []}},\n      'referralId': 'e-0-5a9fa52b69e77b0fdd2f0d6a-24'},\n     {'reasons': {'count': 0,\n       'items': [{'summary': 'This spot is popular',\n         'type': 'general',\n         'reasonName': 'globalInteractionReason'}]},\n      'venue': {'id': '4b0588dff964a520dbdd22e3',\n       'name': 'MTR Hung Hom Station (港鐵紅磡站)',\n       'location': {'address': 'On Wan Rd',\n        'lat': 22.303067,\n        'lng': 114.181527,\n        'labeledLatLngs': [{'label': 'display',\n          'lat': 22.303067,\n          'lng': 114.181527}],\n        'distance': 445,\n        'cc': 'HK',\n        'neighborhood': 'Hung Hom',\n        'city': '红磡',\n        'country': '香港',\n        'formattedAddress': ['On Wan Rd', '香港']},\n       'categories': [{'id': '4bf58dd8d48988d129951735',\n         'name': 'Train Station',\n         'pluralName': 'Train Stations',\n         'shortName': 'Train Station',\n         'icon': {'prefix': 'https://ss3.4sqi.net/img/categories_v2/travel/trainstation_',\n          'suffix': '.png'},\n         'primary': True}],\n       'photos': {'count': 0, 'groups': []}},\n      'referralId': 'e-0-4b0588dff964a520dbdd22e3-25'},\n     {'reasons': {'count': 0,\n       'items': [{'summary': 'This spot is popular',\n         'type': 'general',\n         'reasonName': 'globalInteractionReason'}]},\n      'venue': {'id': '50fa5237e4b052c593aaba64',\n       'name': 'Angsana Spa',\n       'location': {'address': '17 Science Museum Road, Tsim Sha Tsui Waste',\n        'lat': 22.30080021811916,\n        'lng': 114.17975372318463,\n        'labeledLatLngs': [{'label': 'display',\n          'lat': 22.30080021811916,\n          'lng': 114.17975372318463}],\n        'distance': 336,\n        'cc': 'HK',\n        'country': '香港',\n        'formattedAddress': ['17 Science Museum Road, Tsim Sha Tsui Waste',\n         '香港']},\n       'categories': [{'id': '4bf58dd8d48988d1ed941735',\n         'name': 'Spa',\n         'pluralName': 'Spas',\n         'shortName': 'Spa',\n         'icon': {'prefix': 'https://ss3.4sqi.net/img/categories_v2/shops/spa_',\n          'suffix': '.png'},\n         'primary': True}],\n       'photos': {'count': 0, 'groups': []}},\n      'referralId': 'e-0-50fa5237e4b052c593aaba64-26'},\n     {'reasons': {'count': 0,\n       'items': [{'summary': 'This spot is popular',\n         'type': 'general',\n         'reasonName': 'globalInteractionReason'}]},\n      'venue': {'id': '4d88865d7d4c54810d9a4071',\n       'name': 'Les Celebritès',\n       'location': {'address': 'Nikko Hotel',\n        'lat': 22.299999351454225,\n        'lng': 114.18028782692917,\n        'labeledLatLngs': [{'label': 'display',\n          'lat': 22.299999351454225,\n          'lng': 114.18028782692917}],\n        'distance': 437,\n        'cc': 'HK',\n        'city': '尖沙咀',\n        'state': 'Kowloon City',\n        'country': '香港',\n        'formattedAddress': ['Nikko Hotel', 'Kowloon City', '香港']},\n       'categories': [{'id': '4bf58dd8d48988d10c941735',\n         'name': 'French Restaurant',\n         'pluralName': 'French Restaurants',\n         'shortName': 'French',\n         'icon': {'prefix': 'https://ss3.4sqi.net/img/categories_v2/food/french_',\n          'suffix': '.png'},\n         'primary': True}],\n       'photos': {'count': 0, 'groups': []}},\n      'referralId': 'e-0-4d88865d7d4c54810d9a4071-27'},\n     {'reasons': {'count': 0,\n       'items': [{'summary': 'This spot is popular',\n         'type': 'general',\n         'reasonName': 'globalInteractionReason'}]},\n      'venue': {'id': '4d66fcf68f70a093cd2d0e35',\n       'name': 'Club Lounge',\n       'location': {'address': 'Hotel Nikko Hong Kong, 72 Mody Rd',\n        'lat': 22.29924535738869,\n        'lng': 114.17993949847356,\n        'labeledLatLngs': [{'label': 'display',\n          'lat': 22.29924535738869,\n          'lng': 114.17993949847356}],\n        'distance': 476,\n        'cc': 'HK',\n        'city': '尖沙咀',\n        'state': 'Kowloon City',\n        'country': '香港',\n        'formattedAddress': ['Hotel Nikko Hong Kong, 72 Mody Rd',\n         'Kowloon City',\n         '香港']},\n       'categories': [{'id': '4bf58dd8d48988d1d5941735',\n         'name': 'Hotel Bar',\n         'pluralName': 'Hotel Bars',\n         'shortName': 'Hotel Bar',\n         'icon': {'prefix': 'https://ss3.4sqi.net/img/categories_v2/travel/hotel_bar_',\n          'suffix': '.png'},\n         'primary': True}],\n       'photos': {'count': 0, 'groups': []}},\n      'referralId': 'e-0-4d66fcf68f70a093cd2d0e35-28'},\n     {'reasons': {'count': 0,\n       'items': [{'summary': 'This spot is popular',\n         'type': 'general',\n         'reasonName': 'globalInteractionReason'}]},\n      'venue': {'id': '50e1b381e4b01ebc69b9e5bd',\n       'name': '嵯峨野',\n       'location': {'lat': 22.29909809712063,\n        'lng': 114.17993949847356,\n        'labeledLatLngs': [{'label': 'display',\n          'lat': 22.29909809712063,\n          'lng': 114.17993949847356}],\n        'distance': 490,\n        'cc': 'HK',\n        'country': '香港',\n        'formattedAddress': ['香港']},\n       'categories': [{'id': '4bf58dd8d48988d111941735',\n         'name': 'Japanese Restaurant',\n         'pluralName': 'Japanese Restaurants',\n         'shortName': 'Japanese',\n         'icon': {'prefix': 'https://ss3.4sqi.net/img/categories_v2/food/japanese_',\n          'suffix': '.png'},\n         'primary': True}],\n       'photos': {'count': 0, 'groups': []}},\n      'referralId': 'e-0-50e1b381e4b01ebc69b9e5bd-29'},\n     {'reasons': {'count': 0,\n       'items': [{'summary': 'This spot is popular',\n         'type': 'general',\n         'reasonName': 'globalInteractionReason'}]},\n      'venue': {'id': '4c30187c7cc0c9b65bf4ec9a',\n       'name': 'Tao Li (桃里)',\n       'location': {'address': '2/F, New World Millennium Hong Kong Hotel, 72 Mody Rd',\n        'lat': 22.299067745939475,\n        'lng': 114.17988944583952,\n        'labeledLatLngs': [{'label': 'display',\n          'lat': 22.299067745939475,\n          'lng': 114.17988944583952}],\n        'distance': 490,\n        'cc': 'HK',\n        'neighborhood': 'Tsim Sha Tsui, Hong Kong',\n        'city': '尖沙咀',\n        'state': 'Kowloon City',\n        'country': '香港',\n        'formattedAddress': ['2/F, New World Millennium Hong Kong Hotel, 72 Mody Rd',\n         'Kowloon City',\n         '香港']},\n       'categories': [{'id': '4bf58dd8d48988d145941735',\n         'name': 'Chinese Restaurant',\n         'pluralName': 'Chinese Restaurants',\n         'shortName': 'Chinese',\n         'icon': {'prefix': 'https://ss3.4sqi.net/img/categories_v2/food/asian_',\n          'suffix': '.png'},\n         'primary': True}],\n       'photos': {'count': 0, 'groups': []}},\n      'referralId': 'e-0-4c30187c7cc0c9b65bf4ec9a-30'},\n     {'reasons': {'count': 0,\n       'items': [{'summary': 'This spot is popular',\n         'type': 'general',\n         'reasonName': 'globalInteractionReason'}]},\n      'venue': {'id': '4c39e4563849c9281ff3c1b1',\n       'name': 'Bar on 15',\n       'location': {'address': '15/F, New World Millennium Hong Kong Hotel, 72 Mody Rd',\n        'lat': 22.299060989391382,\n        'lng': 114.1800278505525,\n        'labeledLatLngs': [{'label': 'display',\n          'lat': 22.299060989391382,\n          'lng': 114.1800278505525}],\n        'distance': 498,\n        'cc': 'HK',\n        'neighborhood': 'Tsim Sha Tsui, Hong Kong',\n        'city': '尖沙咀',\n        'state': 'Kowloon City',\n        'country': '香港',\n        'formattedAddress': ['15/F, New World Millennium Hong Kong Hotel, 72 Mody Rd',\n         'Kowloon City',\n         '香港']},\n       'categories': [{'id': '4bf58dd8d48988d1d5941735',\n         'name': 'Hotel Bar',\n         'pluralName': 'Hotel Bars',\n         'shortName': 'Hotel Bar',\n         'icon': {'prefix': 'https://ss3.4sqi.net/img/categories_v2/travel/hotel_bar_',\n          'suffix': '.png'},\n         'primary': True}],\n       'photos': {'count': 0, 'groups': []}},\n      'referralId': 'e-0-4c39e4563849c9281ff3c1b1-31'}]}]}}"
     },
     "metadata": {},
     "execution_count": 11
    }
   ],
   "source": [
    "results = requests.get(url).json()\n",
    "results"
   ]
  },
  {
   "cell_type": "code",
   "execution_count": 8,
   "metadata": {},
   "outputs": [],
   "source": [
    "def getCategoryType(row):\n",
    "    try:\n",
    "        cate_list = row['categories']\n",
    "    except:\n",
    "        cate_list = row['venue.categories']\n",
    "    if len(cate_list) == 0:\n",
    "        return None\n",
    "    else:\n",
    "        return cate_list[0]['name'] "
   ]
  },
  {
   "cell_type": "code",
   "execution_count": 15,
   "metadata": {},
   "outputs": [
    {
     "output_type": "execute_result",
     "data": {
      "text/plain": "(32, 5)"
     },
     "metadata": {},
     "execution_count": 15
    }
   ],
   "source": [
    "venues = results['response']['groups'][0]['items']\n",
    "    \n",
    "nearby_venues = json_normalize(venues) # flatten JSON\n",
    "\n",
    "# filter columns\n",
    "filtered_columns = ['venue.name','venue.location.city', 'venue.categories', 'venue.location.lat', 'venue.location.lng']\n",
    "nearby_venues =nearby_venues.loc[:, filtered_columns]\n",
    "\n",
    "# filter the category for each row\n",
    "nearby_venues['venue.categories'] = nearby_venues.apply(getCategoryType, axis=1)\n",
    "\n",
    "# clean columns\n",
    "nearby_venues.columns = [col.split(\".\")[-1] for col in nearby_venues.columns]\n",
    "\n",
    "nearby_venues.shape"
   ]
  },
  {
   "cell_type": "code",
   "execution_count": 24,
   "metadata": {},
   "outputs": [],
   "source": [
    "#get a list of neighborhoods on SH\n",
    "#get the wiki HTML and read it in soup\n",
    "from bs4 import BeautifulSoup\n",
    "import urllib\n",
    "url = 'https://en.wikipedia.org/wiki/Category:Neighbourhoods_of_Shanghai'\n",
    "html = urllib.request.urlopen(url).read()\n",
    "soup = BeautifulSoup(html,'html.parser')"
   ]
  },
  {
   "cell_type": "code",
   "execution_count": 35,
   "metadata": {},
   "outputs": [
    {
     "output_type": "execute_result",
     "data": {
      "text/plain": "                                      Neighborhood\n0                                           Anting\n1                       Changshou Road Subdistrict\n2                                         Fengjing\n3                                Gaoqiao, Shanghai\n4                                  Gubei, Shanghai\n5                              Koreatown, Shanghai\n6                                         Lujiazui\n7                                Luodian, Shanghai\n8                                         Nanxiang\n9   Qiantan International Business Zone (Shanghai)\n10                                           Qibao\n11                                  Songjiang Town\n12                                      Tianzifang\n13                                          Wusong\n14                                       Xintiandi\n15                             Xinzhuang, Shanghai\n16                                        Xujiahui\n17                                 Zhangjiang Town\n18                                      Zhujiajiao",
      "text/html": "<div>\n<style scoped>\n    .dataframe tbody tr th:only-of-type {\n        vertical-align: middle;\n    }\n\n    .dataframe tbody tr th {\n        vertical-align: top;\n    }\n\n    .dataframe thead th {\n        text-align: right;\n    }\n</style>\n<table border=\"1\" class=\"dataframe\">\n  <thead>\n    <tr style=\"text-align: right;\">\n      <th></th>\n      <th>Neighborhood</th>\n    </tr>\n  </thead>\n  <tbody>\n    <tr>\n      <td>0</td>\n      <td>Anting</td>\n    </tr>\n    <tr>\n      <td>1</td>\n      <td>Changshou Road Subdistrict</td>\n    </tr>\n    <tr>\n      <td>2</td>\n      <td>Fengjing</td>\n    </tr>\n    <tr>\n      <td>3</td>\n      <td>Gaoqiao, Shanghai</td>\n    </tr>\n    <tr>\n      <td>4</td>\n      <td>Gubei, Shanghai</td>\n    </tr>\n    <tr>\n      <td>5</td>\n      <td>Koreatown, Shanghai</td>\n    </tr>\n    <tr>\n      <td>6</td>\n      <td>Lujiazui</td>\n    </tr>\n    <tr>\n      <td>7</td>\n      <td>Luodian, Shanghai</td>\n    </tr>\n    <tr>\n      <td>8</td>\n      <td>Nanxiang</td>\n    </tr>\n    <tr>\n      <td>9</td>\n      <td>Qiantan International Business Zone (Shanghai)</td>\n    </tr>\n    <tr>\n      <td>10</td>\n      <td>Qibao</td>\n    </tr>\n    <tr>\n      <td>11</td>\n      <td>Songjiang Town</td>\n    </tr>\n    <tr>\n      <td>12</td>\n      <td>Tianzifang</td>\n    </tr>\n    <tr>\n      <td>13</td>\n      <td>Wusong</td>\n    </tr>\n    <tr>\n      <td>14</td>\n      <td>Xintiandi</td>\n    </tr>\n    <tr>\n      <td>15</td>\n      <td>Xinzhuang, Shanghai</td>\n    </tr>\n    <tr>\n      <td>16</td>\n      <td>Xujiahui</td>\n    </tr>\n    <tr>\n      <td>17</td>\n      <td>Zhangjiang Town</td>\n    </tr>\n    <tr>\n      <td>18</td>\n      <td>Zhujiajiao</td>\n    </tr>\n  </tbody>\n</table>\n</div>"
     },
     "metadata": {},
     "execution_count": 35
    }
   ],
   "source": [
    "#find targeted class of content\n",
    "table = soup.find('div',{'class':'mw-content-ltr'})\n",
    "#find all links\n",
    "allLinks = table.findAll('a')\n",
    "#expell all useless link\n",
    "all_nei_links = allLinks[13:]\n",
    "all_nei_links\n",
    "#store links title to a list\n",
    "sh_nei = []\n",
    "for link in all_nei_links:\n",
    "    sh_nei.append(link.get('title'))\n",
    "#done\n",
    "#sh_nei\n",
    "df_sh = pd.DataFrame()\n",
    "df_sh['Neighborhood'] = sh_nei\n",
    "df_sh"
   ]
  },
  {
   "cell_type": "code",
   "execution_count": null,
   "metadata": {},
   "outputs": [],
   "source": [
    "#get neighborhood coordinates and append to df_sh, if no result, then return nan\n",
    "def getCoord()\n"
   ]
  }
 ],
 "metadata": {
  "language_info": {
   "codemirror_mode": {
    "name": "ipython",
    "version": 3
   },
   "file_extension": ".py",
   "mimetype": "text/x-python",
   "name": "python",
   "nbconvert_exporter": "python",
   "pygments_lexer": "ipython3",
   "version": "3.7.4-final"
  },
  "orig_nbformat": 2,
  "kernelspec": {
   "name": "python3",
   "display_name": "Python 3"
  }
 },
 "nbformat": 4,
 "nbformat_minor": 2
}
{
 "cells": [
  {
   "cell_type": "markdown",
   "metadata": {},
   "source": [
    "\n",
    "# Applied Data Science Capstone\n",
    "## Project Title: The Battle of Neighborhoods\n"
   ]
  },
  {
   "cell_type": "markdown",
   "metadata": {},
   "source": [
    "### Introduction:  \n",
    "The project is trying to find out the best spot to start a new cafe/bistro like restaurant in Hong Kong.  \n",
    "  \n",
    "Most of Hongkongers have limited time for their lunch, up to the white-collar workers to a retail store sales. Yet Hongkongers are still very picky in their choice of meals, try to have best balance between Cost and Performance.\n",
    "  \n",
    "Company ANC have controls and ideal presentation as a chained restaurants, yet all they need right now are clusters of area that they should have their stores in.\n"
   ]
  },
  {
   "cell_type": "markdown",
   "metadata": {},
   "source": [
    "### Data:\n",
    "Hong Kong have separated in 18 districts "
   ]
  },
  {
   "cell_type": "code",
   "execution_count": null,
   "metadata": {},
   "outputs": [],
   "source": []
  }
 ],
 "metadata": {
  "language_info": {
   "codemirror_mode": {
    "name": "ipython",
    "version": 3
   },
   "file_extension": ".py",
   "mimetype": "text/x-python",
   "name": "python",
   "nbconvert_exporter": "python",
   "pygments_lexer": "ipython3",
   "version": 3
  },
  "orig_nbformat": 2
 },
 "nbformat": 4,
 "nbformat_minor": 2
}
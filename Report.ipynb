{
 "cells": [
  {
   "cell_type": "markdown",
   "metadata": {},
   "source": [
    "\n",
    "# Applied Data Science Capstone\n",
    "## Project Title: The Battle of Neighborhoods\n"
   ]
  },
  {
   "cell_type": "markdown",
   "metadata": {},
   "source": [
    "### Introduction:  \n",
    "The project is trying to find out the best spot to start a new cafe/bistro like restaurant in Hong Kong.  \n",
    "  \n",
    "Most of Hongkongers have limited time for their lunch, up to the white-collar workers to a retail store sales. Yet Hongkongers are still very picky in their choice of meals, try to have best balance between Cost and Performance.\n",
    "  \n",
    "Company ANC have controls and ideal presentation as a chained restaurants, yet all they need right now are clusters of area that they should open their store.\n",
    "\n",
    "\n",
    "With the use of Google Maps API, this project demostrates areas in Hong Kong that potentially have large amount of traffic of customers, which shows how the business have a chance to be populated, and number and categories of restaurants at the area, which shows how competitive it will be when starting business at the certain area. Also I will state other bonus benefits found if the Maps data can shows some more.\n"
   ]
  },
  {
   "cell_type": "markdown",
   "metadata": {},
   "source": [
    "### Data:\n",
    "I will use Google Maps API as the main data source, the query response from Places API will return details including facts like address and business status, and comments like the rate and price levels reported by Google Maps users, which made sure that all comments and ratings are surly from the people, not commerical,which make this data not only a business decision but satisfying crowd's needs at the same time.  \n",
    "\n",
    "The query response also comes with the place's types identified by Google Maps users, I will use this to find out top ten types of location in a center of Hong Kong Districts, since Google Maps' response does not contain such information, I will make gather total 18 of them from the Wikipedia then let the prgroam reads it for getting the responses.  \n",
    "\n",
    "The final result will be 18 districts of Hong Kong labeled by clusters that share common values of the details on Maps data, that we can find ourr targeted area easily, might also can find out how great the rate needed to be a competitive options to customers and what price level will be suitable to be attractive for such cluster of areas\n",
    "\n"
   ]
  },
  {
   "cell_type": "code",
   "execution_count": null,
   "metadata": {},
   "outputs": [],
   "source": []
  }
 ],
 "metadata": {
  "language_info": {
   "codemirror_mode": {
    "name": "ipython",
    "version": 3
   },
   "file_extension": ".py",
   "mimetype": "text/x-python",
   "name": "python",
   "nbconvert_exporter": "python",
   "pygments_lexer": "ipython3",
   "version": 3
  },
  "orig_nbformat": 2
 },
 "nbformat": 4,
 "nbformat_minor": 2
}